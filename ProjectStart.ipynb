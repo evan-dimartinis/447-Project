{
 "cells": [
  {
   "cell_type": "code",
   "execution_count": 4,
   "metadata": {},
   "outputs": [],
   "source": [
    "import praw\n",
    "import pandas as pd\n",
    "import time"
   ]
  },
  {
   "cell_type": "code",
   "execution_count": 13,
   "metadata": {
    "tags": []
   },
   "outputs": [
    {
     "output_type": "execute_result",
     "data": {
      "text/plain": "                                                 title  score      id  \\\n0    The Hartford agrees to pay $650M in Boy Scouts...     45  msfits   \n1    Jacksonville pastor arrested, accused of moles...    573  msplo5   \n2    Former NYPD officer from Oceanside involved in...    215  mspmy8   \n3    Myanmar's junta leader 'confirmed' attending A...     19  msn401   \n4    LA County's COVID-19 positivity rate at 1%, lo...    159  mso9px   \n..                                                 ...    ...     ...   \n441  Myanmar releases prisoners for New Year, thoug...     24  msoxsd   \n442  VIDEO: Driver jumps Daytona Beach drawbridge a...     35  mslyla   \n443  Second Arrest Made After Burleson Officer Shot...    110  ms11l7   \n444  China resolutely opposed to U.S., Japan joint ...     39  msoi0o   \n445  Brazil asks women 'if possible' to delay pregn...     46  mso34l   \n\n                                                   url  coms_num  \\\n0    https://abcnews.go.com/US/wireStory/hartford-a...        24   \n1    https://www.firstcoastnews.com/mobile/article/...        78   \n2    https://www.liherald.com/lynbrook/stories/form...        20   \n3    https://www.straitstimes.com/asia/se-asia/myan...         1   \n4    https://abc7.com/health/la-countys-covid-19-po...        10   \n..                                                 ...       ...   \n441  https://www.reuters.com/world/asia-pacific/mya...         3   \n442  https://www.news4jax.com/news/florida/2021/04/...        21   \n443  https://www.nbcdfw.com/news/local/second-arres...        12   \n444  https://www.reuters.com/world/china/china-reso...        20   \n445  https://edition.cnn.com/2021/04/17/americas/br...        10   \n\n             author  upvotes  \n0              -___       45  \n1        Jean_Zombi      573  \n2        Jean_Zombi      215  \n3    notice_me_mina       19  \n4      Hermitically      159  \n..              ...      ...  \n441   mayurbhattseo       24  \n442  brashendeavors       35  \n443      Jean_Zombi      110  \n444     harsha_shun       39  \n445        kksingh1       46  \n\n[446 rows x 7 columns]",
      "text/html": "<div>\n<style scoped>\n    .dataframe tbody tr th:only-of-type {\n        vertical-align: middle;\n    }\n\n    .dataframe tbody tr th {\n        vertical-align: top;\n    }\n\n    .dataframe thead th {\n        text-align: right;\n    }\n</style>\n<table border=\"1\" class=\"dataframe\">\n  <thead>\n    <tr style=\"text-align: right;\">\n      <th></th>\n      <th>title</th>\n      <th>score</th>\n      <th>id</th>\n      <th>url</th>\n      <th>coms_num</th>\n      <th>author</th>\n      <th>upvotes</th>\n    </tr>\n  </thead>\n  <tbody>\n    <tr>\n      <th>0</th>\n      <td>The Hartford agrees to pay $650M in Boy Scouts...</td>\n      <td>45</td>\n      <td>msfits</td>\n      <td>https://abcnews.go.com/US/wireStory/hartford-a...</td>\n      <td>24</td>\n      <td>-___</td>\n      <td>45</td>\n    </tr>\n    <tr>\n      <th>1</th>\n      <td>Jacksonville pastor arrested, accused of moles...</td>\n      <td>573</td>\n      <td>msplo5</td>\n      <td>https://www.firstcoastnews.com/mobile/article/...</td>\n      <td>78</td>\n      <td>Jean_Zombi</td>\n      <td>573</td>\n    </tr>\n    <tr>\n      <th>2</th>\n      <td>Former NYPD officer from Oceanside involved in...</td>\n      <td>215</td>\n      <td>mspmy8</td>\n      <td>https://www.liherald.com/lynbrook/stories/form...</td>\n      <td>20</td>\n      <td>Jean_Zombi</td>\n      <td>215</td>\n    </tr>\n    <tr>\n      <th>3</th>\n      <td>Myanmar's junta leader 'confirmed' attending A...</td>\n      <td>19</td>\n      <td>msn401</td>\n      <td>https://www.straitstimes.com/asia/se-asia/myan...</td>\n      <td>1</td>\n      <td>notice_me_mina</td>\n      <td>19</td>\n    </tr>\n    <tr>\n      <th>4</th>\n      <td>LA County's COVID-19 positivity rate at 1%, lo...</td>\n      <td>159</td>\n      <td>mso9px</td>\n      <td>https://abc7.com/health/la-countys-covid-19-po...</td>\n      <td>10</td>\n      <td>Hermitically</td>\n      <td>159</td>\n    </tr>\n    <tr>\n      <th>...</th>\n      <td>...</td>\n      <td>...</td>\n      <td>...</td>\n      <td>...</td>\n      <td>...</td>\n      <td>...</td>\n      <td>...</td>\n    </tr>\n    <tr>\n      <th>441</th>\n      <td>Myanmar releases prisoners for New Year, thoug...</td>\n      <td>24</td>\n      <td>msoxsd</td>\n      <td>https://www.reuters.com/world/asia-pacific/mya...</td>\n      <td>3</td>\n      <td>mayurbhattseo</td>\n      <td>24</td>\n    </tr>\n    <tr>\n      <th>442</th>\n      <td>VIDEO: Driver jumps Daytona Beach drawbridge a...</td>\n      <td>35</td>\n      <td>mslyla</td>\n      <td>https://www.news4jax.com/news/florida/2021/04/...</td>\n      <td>21</td>\n      <td>brashendeavors</td>\n      <td>35</td>\n    </tr>\n    <tr>\n      <th>443</th>\n      <td>Second Arrest Made After Burleson Officer Shot...</td>\n      <td>110</td>\n      <td>ms11l7</td>\n      <td>https://www.nbcdfw.com/news/local/second-arres...</td>\n      <td>12</td>\n      <td>Jean_Zombi</td>\n      <td>110</td>\n    </tr>\n    <tr>\n      <th>444</th>\n      <td>China resolutely opposed to U.S., Japan joint ...</td>\n      <td>39</td>\n      <td>msoi0o</td>\n      <td>https://www.reuters.com/world/china/china-reso...</td>\n      <td>20</td>\n      <td>harsha_shun</td>\n      <td>39</td>\n    </tr>\n    <tr>\n      <th>445</th>\n      <td>Brazil asks women 'if possible' to delay pregn...</td>\n      <td>46</td>\n      <td>mso34l</td>\n      <td>https://edition.cnn.com/2021/04/17/americas/br...</td>\n      <td>10</td>\n      <td>kksingh1</td>\n      <td>46</td>\n    </tr>\n  </tbody>\n</table>\n<p>446 rows × 7 columns</p>\n</div>"
     },
     "metadata": {},
     "execution_count": 13
    }
   ],
   "source": [
    "reddit = praw.Reddit(client_id='nfgFdWocI1GFIQ',\n",
    "                    client_secret='z_rsAXFyjZ3fELcJKucmHsQIB3jgHQ',\n",
    "                    password='Sinitramid19',\n",
    "                    user_agent='447 Example',\n",
    "                    username='Traditional-Ad-9640')\n",
    "news = reddit.subreddit('News')\n",
    "\n",
    "\n",
    "yesterdays_news = news.random()\n",
    "\n",
    "topics_dict={\"title\":[],\\\n",
    "                \"score\":[],\\\n",
    "                \"id\":[],\\\n",
    "                \"url\":[],\\\n",
    "                \"coms_num\":[],\\\n",
    "                \"author\":[],\\\n",
    "                \"upvotes\":[],\\\n",
    "                }\n",
    "x = 0\n",
    "\n",
    "while x < 500:\n",
    "    x+=1\n",
    "    time.sleep(.5)\n",
    "    post = news.random()\n",
    "    if isinstance(post, praw.models.reddit.submission.Submission):\n",
    "        topics_dict[\"title\"].append(post.title)\n",
    "        topics_dict[\"score\"].append(post.score)\n",
    "        topics_dict[\"id\"].append(post.id)\n",
    "        topics_dict[\"url\"].append(post.url)\n",
    "        topics_dict[\"coms_num\"].append(post.num_comments)\n",
    "        topics_dict[\"author\"].append(post.author)\n",
    "        topics_dict[\"upvotes\"].append(post.ups)\n",
    "\n",
    "df = pd.DataFrame(data=topics_dict)\n",
    "df"
   ]
  },
  {
   "cell_type": "code",
   "execution_count": null,
   "metadata": {},
   "outputs": [],
   "source": []
  },
  {
   "cell_type": "code",
   "execution_count": null,
   "metadata": {},
   "outputs": [],
   "source": []
  }
 ],
 "metadata": {
  "language_info": {
   "codemirror_mode": {
    "name": "ipython",
    "version": 3
   },
   "file_extension": ".py",
   "mimetype": "text/x-python",
   "name": "python",
   "nbconvert_exporter": "python",
   "pygments_lexer": "ipython3",
   "version": "3.8.3-final"
  },
  "orig_nbformat": 2,
  "kernelspec": {
   "name": "python3",
   "display_name": "Python 3"
  }
 },
 "nbformat": 4,
 "nbformat_minor": 2
}