{
 "metadata": {
  "language_info": {
   "codemirror_mode": {
    "name": "ipython",
    "version": 3
   },
   "file_extension": ".py",
   "mimetype": "text/x-python",
   "name": "python",
   "nbconvert_exporter": "python",
   "pygments_lexer": "ipython3",
   "version": "3.8.5"
  },
  "orig_nbformat": 2,
  "kernelspec": {
   "name": "python385jvsc74a57bd03ab4fdb77c8288e7266c0739e217c651d1dc59fdf27a301350b4ac2bd430c816",
   "display_name": "Python 3.8.5 64-bit ('base': conda)"
  }
 },
 "nbformat": 4,
 "nbformat_minor": 2,
 "cells": [
  {
   "cell_type": "code",
   "execution_count": 37,
   "metadata": {},
   "outputs": [],
   "source": [
    "import pandas as pd\n",
    "import numpy as np\n",
    "import csv\n",
    "import matplotlib.pyplot as plt\n",
    "from collections import Counter\n",
    "from nltk import ngrams\n",
    "from nltk.tokenize import word_tokenize\n",
    "from nltk.corpus import stopwords\n",
    "from nltk.stem import WordNetLemmatizer\n",
    "import seaborn as sns"
   ]
  },
  {
   "cell_type": "code",
   "execution_count": 33,
   "metadata": {},
   "outputs": [
    {
     "output_type": "execute_result",
     "data": {
      "text/plain": [
       "                                               title  score      id  \\\n",
       "0  St. Paul ‘sovereign citizen’ records himself s...   1764  naxke1   \n",
       "1  District keeps kids at home because of lack of...     73  naywl0   \n",
       "2  Tacoma man says he was stabbed after asking so...   2660  nab3az   \n",
       "3       Israeli air strike destroys Gaza tower block    342  na47s3   \n",
       "4  Elon Musk says Tesla will stop accepting bitco...   4068  nb17cy   \n",
       "\n",
       "                                                 url  coms_num  \\\n",
       "0  https://minnesotareformer.com/2021/05/08/st-pa...       219   \n",
       "1  https://apnews.com/article/coronavirus-pandemi...         3   \n",
       "2  https://www.kiro7.com/news/local/tacoma-man-sa...       599   \n",
       "3  https://www.aljazeera.com/news/2021/5/11/israe...       285   \n",
       "4  https://www.cnbc.com/2021/05/12/elon-musk-says...       860   \n",
       "\n",
       "                 author  upvotes  \n",
       "0               zardogo     1764  \n",
       "1        brashendeavors       73  \n",
       "2  DICK-FUCK-PUSSY-SUCK     2660  \n",
       "3      throwaway0152384      342  \n",
       "4    FletchForPresident     4068  "
      ],
      "text/html": "<div>\n<style scoped>\n    .dataframe tbody tr th:only-of-type {\n        vertical-align: middle;\n    }\n\n    .dataframe tbody tr th {\n        vertical-align: top;\n    }\n\n    .dataframe thead th {\n        text-align: right;\n    }\n</style>\n<table border=\"1\" class=\"dataframe\">\n  <thead>\n    <tr style=\"text-align: right;\">\n      <th></th>\n      <th>title</th>\n      <th>score</th>\n      <th>id</th>\n      <th>url</th>\n      <th>coms_num</th>\n      <th>author</th>\n      <th>upvotes</th>\n    </tr>\n  </thead>\n  <tbody>\n    <tr>\n      <th>0</th>\n      <td>St. Paul ‘sovereign citizen’ records himself s...</td>\n      <td>1764</td>\n      <td>naxke1</td>\n      <td>https://minnesotareformer.com/2021/05/08/st-pa...</td>\n      <td>219</td>\n      <td>zardogo</td>\n      <td>1764</td>\n    </tr>\n    <tr>\n      <th>1</th>\n      <td>District keeps kids at home because of lack of...</td>\n      <td>73</td>\n      <td>naywl0</td>\n      <td>https://apnews.com/article/coronavirus-pandemi...</td>\n      <td>3</td>\n      <td>brashendeavors</td>\n      <td>73</td>\n    </tr>\n    <tr>\n      <th>2</th>\n      <td>Tacoma man says he was stabbed after asking so...</td>\n      <td>2660</td>\n      <td>nab3az</td>\n      <td>https://www.kiro7.com/news/local/tacoma-man-sa...</td>\n      <td>599</td>\n      <td>DICK-FUCK-PUSSY-SUCK</td>\n      <td>2660</td>\n    </tr>\n    <tr>\n      <th>3</th>\n      <td>Israeli air strike destroys Gaza tower block</td>\n      <td>342</td>\n      <td>na47s3</td>\n      <td>https://www.aljazeera.com/news/2021/5/11/israe...</td>\n      <td>285</td>\n      <td>throwaway0152384</td>\n      <td>342</td>\n    </tr>\n    <tr>\n      <th>4</th>\n      <td>Elon Musk says Tesla will stop accepting bitco...</td>\n      <td>4068</td>\n      <td>nb17cy</td>\n      <td>https://www.cnbc.com/2021/05/12/elon-musk-says...</td>\n      <td>860</td>\n      <td>FletchForPresident</td>\n      <td>4068</td>\n    </tr>\n  </tbody>\n</table>\n</div>"
     },
     "metadata": {},
     "execution_count": 33
    }
   ],
   "source": [
    "US_df = pd.read_csv(\"US2021.csv\", index_col=0)\n",
    "US_df.head()"
   ]
  },
  {
   "cell_type": "code",
   "execution_count": 40,
   "metadata": {},
   "outputs": [],
   "source": [
    "titles = \" \".join(US_df[\"title\"])\n",
    "words = word_tokenize(titles)"
   ]
  },
  {
   "cell_type": "code",
   "execution_count": null,
   "metadata": {},
   "outputs": [],
   "source": [
    "def clean_words(new_tokens):\n",
    "    new_tokens = [t.lower() for t in new_tokens]\n",
    "    new_tokens = [t for t in new_tokens if t not in stopwords.words('english')]\n",
    "    new_tokens = [t for t in new_tokens if t.isalpha()]\n",
    "    lemmatizer = WordNetLemmatizer()\n",
    "    new_tokens = [lemmatizer.lemmatize(t) for t in new_tokens]\n",
    "    return new_tokens"
   ]
  }
 ]
}