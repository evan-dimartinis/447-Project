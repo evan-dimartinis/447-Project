{
 "cells": [
  {
   "cell_type": "code",
   "execution_count": 14,
   "metadata": {},
   "outputs": [],
   "source": [
    "import requests\n",
    "import pandas as pd\n",
    "import praw\n",
    "from psaw import PushshiftAPI\n",
    "import datetime as dt"
   ]
  },
  {
   "cell_type": "code",
   "execution_count": 15,
   "metadata": {},
   "outputs": [],
   "source": [
    "reddit = praw.Reddit(client_id='nfgFdWocI1GFIQ',\n",
    "                    client_secret='z_rsAXFyjZ3fELcJKucmHsQIB3jgHQ',\n",
    "                    password='447account',\n",
    "                    user_agent='447 Example',\n",
    "                    username='Traditional-Ad-9640')\n",
    "\n",
    "api = PushshiftAPI(reddit)"
   ]
  },
  {
   "cell_type": "code",
   "execution_count": 24,
   "metadata": {},
   "outputs": [
    {
     "name": "stdout",
     "output_type": "stream",
     "text": [
      "{'author': None, 'title': 'Iran’s Khamenei says Palestinians must ‘confront the enemy’ amid Israel-Hamas conflict', 'score': 1}\n",
      "{'author': Redditor(name='eastbayted'), 'title': 'Colonial Pipeline Begins to Restart Flow of Fuel', 'score': 1}\n",
      "{'author': Redditor(name='Overly_confused'), 'title': 'Israel carried out hundreds of air strikes in Gaza yesterday, At least 49 dead', 'score': 9}\n",
      "{'author': Redditor(name='persianfa'), 'title': 'دانلود آهنگ کردی وه ره یارم از کارزان فاروق', 'score': 1}\n",
      "{'author': Redditor(name='persianfa'), 'title': 'دانلود آهنگ کردی عشق از فرشاد آزادی', 'score': 1}\n",
      "{'author': Redditor(name='persianfa'), 'title': 'دانلود آهنگ کردی چاوه روانی از شاباز زمانی', 'score': 1}\n",
      "{'author': Redditor(name='persianfa'), 'title': 'دانلود آهنگ بستکی ببار ای بارون از حبیب مهرزادی', 'score': 1}\n",
      "{'author': Redditor(name='persianfa'), 'title': 'دانلود آهنگ بستکی مو حنایی از محسن باغی', 'score': 1}\n",
      "{'author': Redditor(name='persianfa'), 'title': 'دانلود آهنگ بستکی ایلیا زراعتی از کلبه\\u200cی عشق', 'score': 1}\n",
      "{'author': Redditor(name='BanX'), 'title': 'Instagram, Twitter blame glitches for deleting Palestinian posts', 'score': 5}\n",
      "{'author': Redditor(name='persianfa'), 'title': 'دانلود آهنگ بستکی چشموت قشنگن از مروان اسماعیلی', 'score': 1}\n",
      "{'author': Redditor(name='Hopeful_Hair6908'), 'title': 'Yukti Kapoor Age, Wiki, Biography, Career Debut, Movies, Husband, TV Shows, Family, Education & Net Worth Yukti Kapoor Age & Bio: Yukti Kapoor is a capabl...', 'score': 1}\n",
      "{'author': Redditor(name='Hopeful_Hair6908'), 'title': 'Nick Wright Age, Wiki, Net Worth, Height and More – The Personage Are you interested in Nick Wright? He is one of the youngest celebrities to many many people. We...', 'score': 1}\n",
      "{'author': Redditor(name='tellygupsgup_redit'), 'title': 'Rohit Choudhary Height, Affairs, Net Worth, Age, Bio and More – The Personage Do you know Rohit Choudhary? He is one of the popular Actor, Model to many of the people. We hav...', 'score': 1}\n",
      "{'author': Redditor(name='tellygupsgup_redit'), 'title': 'Jesleen Slaich Height, Affairs, Net Worth, Age, Bio and More 2021 Are you a follower of Jesleen Slaich? She is one of the popular Model, Actress to many of the pe...', 'score': 1}\n",
      "{'author': Redditor(name='tellygupsgup_redit'), 'title': 'Dr Vikram Yadav Age, Affairs, Height, Net Worth, Bio and More – The Personage Are you a follower of Dr Vikram Yadav? He is an emerging Doctor at present. We have added the de...', 'score': 1}\n",
      "{'author': Redditor(name='Hayden-laye'), 'title': \"Bill to resume death penalty with electrocution, firing squad sent to McMaster's desk.\", 'score': 1}\n",
      "{'author': Redditor(name='indian_motivation'), 'title': 'Vishal Krishna Reddy Height, Net Worth, Age, Affairs, Bio and More 2021 Are you interested in Vishal Krishna Reddy? He is popular enough for the youth at this time. We ...', 'score': 1}\n",
      "{'author': Redditor(name='Hopeful_Hair6908'), 'title': 'Shivani Surve Age, Wiki, Biography, Career, Family, Education, Husband, Movies, TV Shows & Net Worth Shivani Surve Age & Wiki: Shivani Surve is a pop...', 'score': 1}\n",
      "{'author': Redditor(name='Hopeful_Hair6908'), 'title': 'Praveena Age, Affairs, Height, Net Worth, Bio and More 2021 Do you know Praveena? She is popular enough for the youth at this time. We have written the deta...', 'score': 1}\n"
     ]
    }
   ],
   "source": [
    "start_epoch = int(dt.datetime(2021, 5, 10).timestamp())\n",
    "gen = api.search_submissions(after=start_epoch,\n",
    "                            subreddit='news',\n",
    "                            filter=['url','author', 'title', 'subreddit'],\n",
    "                            limit=20)\n",
    "results = list(gen)\n",
    "for submission in results:\n",
    "    submission_dict = {\n",
    "        'author': submission.author,\n",
    "        'title': submission.title,\n",
    "        'score': submission.score\n",
    "    }\n",
    "    print(submission_dict)"
   ]
  },
  {
   "cell_type": "code",
   "execution_count": null,
   "metadata": {},
   "outputs": [],
   "source": []
  }
 ],
 "metadata": {
  "kernelspec": {
   "display_name": "Python 3",
   "language": "python",
   "name": "python3"
  },
  "language_info": {
   "codemirror_mode": {
    "name": "ipython",
    "version": 3
   },
   "file_extension": ".py",
   "mimetype": "text/x-python",
   "name": "python",
   "nbconvert_exporter": "python",
   "pygments_lexer": "ipython3",
   "version": "3.8.3"
  }
 },
 "nbformat": 4,
 "nbformat_minor": 4
}
