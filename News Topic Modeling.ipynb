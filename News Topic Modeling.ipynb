{
 "cells": [
  {
   "cell_type": "code",
   "execution_count": 2,
   "metadata": {},
   "outputs": [],
   "source": [
    "import regex\n",
    "import numpy as np\n",
    "import pandas as pd\n",
    "import gensim\n",
    "import gensim.corpora as corpora\n",
    "from gensim.utils import simple_preprocess\n",
    "import spacy\n",
    "import pyLDAvis"
   ]
  },
  {
   "cell_type": "code",
   "execution_count": 3,
   "metadata": {},
   "outputs": [
    {
     "output_type": "stream",
     "name": "stderr",
     "text": [
      "C:\\Users\\0626t\\anaconda3\\lib\\site-packages\\ipykernel\\ipkernel.py:287: DeprecationWarning: `should_run_async` will not call `transform_cell` automatically in the future. Please pass the result to `transformed_cell` argument and any exception that happen during thetransform in `preprocessing_exc_tuple` in IPython 7.17 and above.\n  and should_run_async(code)\n"
     ]
    }
   ],
   "source": [
    "import nltk\n",
    "from nltk.corpus import stopwords\n",
    "stop_words = stopwords.words('english')\n",
    "stop_words.extend(['from', 'subject', 're', 'edu', 'use'])"
   ]
  },
  {
   "cell_type": "code",
   "execution_count": 4,
   "metadata": {},
   "outputs": [
    {
     "output_type": "stream",
     "name": "stderr",
     "text": [
      "C:\\Users\\0626t\\anaconda3\\lib\\site-packages\\ipykernel\\ipkernel.py:287: DeprecationWarning: `should_run_async` will not call `transform_cell` automatically in the future. Please pass the result to `transformed_cell` argument and any exception that happen during thetransform in `preprocessing_exc_tuple` in IPython 7.17 and above.\n  and should_run_async(code)\n"
     ]
    },
    {
     "output_type": "execute_result",
     "data": {
      "text/plain": [
       "   Unnamed: 0  Unnamed: 0.1  \\\n",
       "0           0             0   \n",
       "1           1             1   \n",
       "2           2             2   \n",
       "3           3             3   \n",
       "4           4             4   \n",
       "5           5             5   \n",
       "6           6             6   \n",
       "7           7             7   \n",
       "8           8             8   \n",
       "9           9             9   \n",
       "\n",
       "                                               title  score      id  \\\n",
       "0  st. paul ‘sovereign citizen’ records himself s...   1764  naxke1   \n",
       "1  district keeps kids at home because of lack of...     73  naywl0   \n",
       "2  tacoma man says he was stabbed after asking so...   2660  nab3az   \n",
       "3       israeli air strike destroys gaza tower block    342  na47s3   \n",
       "4  elon musk says tesla will stop accepting bitco...   4068  nb17cy   \n",
       "5  norman lloyd dies: ‘st. elsewhere’ actor whose...     96  na7yga   \n",
       "6  ohio governor says state will give $1m to 5 ra...    434  nb2niw   \n",
       "7  'i'm very rich': back seat tesla rider pulls s...     81  nb5pe9   \n",
       "8  americans as young as 12 begin to get vaccinat...    115  najakn   \n",
       "9  nato exercises sweep europe amid russian escal...     29  nb4bby   \n",
       "\n",
       "                                                 url  coms_num  \\\n",
       "0  https://minnesotareformer.com/2021/05/08/st-pa...       219   \n",
       "1  https://apnews.com/article/coronavirus-pandemi...         3   \n",
       "2  https://www.kiro7.com/news/local/tacoma-man-sa...       599   \n",
       "3  https://www.aljazeera.com/news/2021/5/11/israe...       285   \n",
       "4  https://www.cnbc.com/2021/05/12/elon-musk-says...       860   \n",
       "5  https://deadline.com/2021/05/norman-lloyd-dead...         3   \n",
       "6  https://www.wbrz.com/news/ohio-governor-says-s...       106   \n",
       "7  http://ktvu.com/news/back-seat-tesla-rider-pul...        37   \n",
       "8  https://us.cnn.com/2021/05/11/health/us-corona...        19   \n",
       "9  https://www.weny.com/story/43867503/nato-exerc...         6   \n",
       "\n",
       "                 author  upvotes  word_count  \n",
       "0               zardogo     1764          10  \n",
       "1        brashendeavors       73          11  \n",
       "2  DICK-FUCK-PUSSY-SUCK     2660          13  \n",
       "3      throwaway0152384      342           7  \n",
       "4    FletchForPresident     4068          14  \n",
       "5          DemiFiendRSA       96          15  \n",
       "6    cyclinginvancouver      434          13  \n",
       "7               reef001       81          17  \n",
       "8          pcaversaccio      115          14  \n",
       "9             marsianer       29          13  "
      ],
      "text/html": "<div>\n<style scoped>\n    .dataframe tbody tr th:only-of-type {\n        vertical-align: middle;\n    }\n\n    .dataframe tbody tr th {\n        vertical-align: top;\n    }\n\n    .dataframe thead th {\n        text-align: right;\n    }\n</style>\n<table border=\"1\" class=\"dataframe\">\n  <thead>\n    <tr style=\"text-align: right;\">\n      <th></th>\n      <th>Unnamed: 0</th>\n      <th>Unnamed: 0.1</th>\n      <th>title</th>\n      <th>score</th>\n      <th>id</th>\n      <th>url</th>\n      <th>coms_num</th>\n      <th>author</th>\n      <th>upvotes</th>\n      <th>word_count</th>\n    </tr>\n  </thead>\n  <tbody>\n    <tr>\n      <th>0</th>\n      <td>0</td>\n      <td>0</td>\n      <td>st. paul ‘sovereign citizen’ records himself s...</td>\n      <td>1764</td>\n      <td>naxke1</td>\n      <td>https://minnesotareformer.com/2021/05/08/st-pa...</td>\n      <td>219</td>\n      <td>zardogo</td>\n      <td>1764</td>\n      <td>10</td>\n    </tr>\n    <tr>\n      <th>1</th>\n      <td>1</td>\n      <td>1</td>\n      <td>district keeps kids at home because of lack of...</td>\n      <td>73</td>\n      <td>naywl0</td>\n      <td>https://apnews.com/article/coronavirus-pandemi...</td>\n      <td>3</td>\n      <td>brashendeavors</td>\n      <td>73</td>\n      <td>11</td>\n    </tr>\n    <tr>\n      <th>2</th>\n      <td>2</td>\n      <td>2</td>\n      <td>tacoma man says he was stabbed after asking so...</td>\n      <td>2660</td>\n      <td>nab3az</td>\n      <td>https://www.kiro7.com/news/local/tacoma-man-sa...</td>\n      <td>599</td>\n      <td>DICK-FUCK-PUSSY-SUCK</td>\n      <td>2660</td>\n      <td>13</td>\n    </tr>\n    <tr>\n      <th>3</th>\n      <td>3</td>\n      <td>3</td>\n      <td>israeli air strike destroys gaza tower block</td>\n      <td>342</td>\n      <td>na47s3</td>\n      <td>https://www.aljazeera.com/news/2021/5/11/israe...</td>\n      <td>285</td>\n      <td>throwaway0152384</td>\n      <td>342</td>\n      <td>7</td>\n    </tr>\n    <tr>\n      <th>4</th>\n      <td>4</td>\n      <td>4</td>\n      <td>elon musk says tesla will stop accepting bitco...</td>\n      <td>4068</td>\n      <td>nb17cy</td>\n      <td>https://www.cnbc.com/2021/05/12/elon-musk-says...</td>\n      <td>860</td>\n      <td>FletchForPresident</td>\n      <td>4068</td>\n      <td>14</td>\n    </tr>\n    <tr>\n      <th>5</th>\n      <td>5</td>\n      <td>5</td>\n      <td>norman lloyd dies: ‘st. elsewhere’ actor whose...</td>\n      <td>96</td>\n      <td>na7yga</td>\n      <td>https://deadline.com/2021/05/norman-lloyd-dead...</td>\n      <td>3</td>\n      <td>DemiFiendRSA</td>\n      <td>96</td>\n      <td>15</td>\n    </tr>\n    <tr>\n      <th>6</th>\n      <td>6</td>\n      <td>6</td>\n      <td>ohio governor says state will give $1m to 5 ra...</td>\n      <td>434</td>\n      <td>nb2niw</td>\n      <td>https://www.wbrz.com/news/ohio-governor-says-s...</td>\n      <td>106</td>\n      <td>cyclinginvancouver</td>\n      <td>434</td>\n      <td>13</td>\n    </tr>\n    <tr>\n      <th>7</th>\n      <td>7</td>\n      <td>7</td>\n      <td>'i'm very rich': back seat tesla rider pulls s...</td>\n      <td>81</td>\n      <td>nb5pe9</td>\n      <td>http://ktvu.com/news/back-seat-tesla-rider-pul...</td>\n      <td>37</td>\n      <td>reef001</td>\n      <td>81</td>\n      <td>17</td>\n    </tr>\n    <tr>\n      <th>8</th>\n      <td>8</td>\n      <td>8</td>\n      <td>americans as young as 12 begin to get vaccinat...</td>\n      <td>115</td>\n      <td>najakn</td>\n      <td>https://us.cnn.com/2021/05/11/health/us-corona...</td>\n      <td>19</td>\n      <td>pcaversaccio</td>\n      <td>115</td>\n      <td>14</td>\n    </tr>\n    <tr>\n      <th>9</th>\n      <td>9</td>\n      <td>9</td>\n      <td>nato exercises sweep europe amid russian escal...</td>\n      <td>29</td>\n      <td>nb4bby</td>\n      <td>https://www.weny.com/story/43867503/nato-exerc...</td>\n      <td>6</td>\n      <td>marsianer</td>\n      <td>29</td>\n      <td>13</td>\n    </tr>\n  </tbody>\n</table>\n</div>"
     },
     "metadata": {},
     "execution_count": 4
    }
   ],
   "source": [
    "df = pd.read_csv('cleaned_US2021.csv')\n",
    "df.head(10)"
   ]
  },
  {
   "cell_type": "code",
   "execution_count": 5,
   "metadata": {},
   "outputs": [
    {
     "output_type": "stream",
     "name": "stderr",
     "text": [
      "C:\\Users\\0626t\\anaconda3\\lib\\site-packages\\ipykernel\\ipkernel.py:287: DeprecationWarning: `should_run_async` will not call `transform_cell` automatically in the future. Please pass the result to `transformed_cell` argument and any exception that happen during thetransform in `preprocessing_exc_tuple` in IPython 7.17 and above.\n",
      "  and should_run_async(code)\n",
      "['st', 'paul', 'sovereign', 'citizen', 'records', 'himself', 'stealing', 'vaccines', 'from', 'workers']\n"
     ]
    }
   ],
   "source": [
    "def sent_to_words(sentences):\n",
    "    for sentence in sentences:\n",
    "        yield(gensim.utils.simple_preprocess(str(sentence), deacc=True))  # deacc=True removes punctuations\n",
    "        \n",
    "data = df['title'].tolist()\n",
    "data_words = list(sent_to_words(data))\n",
    "\n",
    "print(data_words[0])"
   ]
  },
  {
   "cell_type": "code",
   "execution_count": 6,
   "metadata": {},
   "outputs": [
    {
     "output_type": "stream",
     "name": "stdout",
     "text": [
      "['st', 'paul_sovereign', 'citizen', 'records_himself', 'stealing_vaccines', 'from', 'workers']\n",
      "C:\\Users\\0626t\\anaconda3\\lib\\site-packages\\ipykernel\\ipkernel.py:287: DeprecationWarning: `should_run_async` will not call `transform_cell` automatically in the future. Please pass the result to `transformed_cell` argument and any exception that happen during thetransform in `preprocessing_exc_tuple` in IPython 7.17 and above.\n",
      "  and should_run_async(code)\n"
     ]
    }
   ],
   "source": [
    "bigram = gensim.models.Phrases(data_words, min_count=5, threshold=100) # higher threshold fewer phrases.\n",
    "bigram_mod = gensim.models.phrases.Phraser(bigram)\n",
    "print(bigram_mod[data_words[0]])"
   ]
  },
  {
   "cell_type": "code",
   "execution_count": 7,
   "metadata": {},
   "outputs": [
    {
     "output_type": "stream",
     "name": "stderr",
     "text": [
      "C:\\Users\\0626t\\anaconda3\\lib\\site-packages\\ipykernel\\ipkernel.py:287: DeprecationWarning: `should_run_async` will not call `transform_cell` automatically in the future. Please pass the result to `transformed_cell` argument and any exception that happen during thetransform in `preprocessing_exc_tuple` in IPython 7.17 and above.\n",
      "  and should_run_async(code)\n",
      "['st', 'citizen', 'record', 'stealing_vaccine', 'worker']\n"
     ]
    }
   ],
   "source": [
    "def remove_stopwords(texts):\n",
    "    return [[word for word in simple_preprocess(str(doc)) if word not in stop_words] for doc in texts]\n",
    "\n",
    "def make_bigrams(texts):\n",
    "    return [bigram_mod[doc] for doc in texts]\n",
    "\n",
    "\n",
    "def lemmatization(texts, allowed_postags=['NOUN', 'ADJ', 'VERB', 'ADV']):\n",
    "    texts_out = []\n",
    "    for sent in texts:\n",
    "        doc = nlp(\" \".join(sent)) \n",
    "        texts_out.append([token.lemma_ for token in doc if token.pos_ in allowed_postags])\n",
    "    return texts_out\n",
    "\n",
    "data_words_nostops = remove_stopwords(data_words)\n",
    "data_words_bigrams = make_bigrams(data_words_nostops)\n",
    "nlp = spacy.load('en_core_web_sm', disable=['parser', 'ner'])\n",
    "data_lemmatized = lemmatization(data_words_bigrams, allowed_postags=['NOUN', 'ADJ', 'VERB', 'ADV'])\n",
    "\n",
    "print(data_lemmatized[0])"
   ]
  },
  {
   "cell_type": "code",
   "execution_count": 8,
   "metadata": {},
   "outputs": [
    {
     "output_type": "stream",
     "name": "stdout",
     "text": [
      "[(0, 1), (1, 1), (2, 1), (3, 1), (4, 1)]\n",
      "C:\\Users\\0626t\\anaconda3\\lib\\site-packages\\ipykernel\\ipkernel.py:287: DeprecationWarning: `should_run_async` will not call `transform_cell` automatically in the future. Please pass the result to `transformed_cell` argument and any exception that happen during thetransform in `preprocessing_exc_tuple` in IPython 7.17 and above.\n",
      "  and should_run_async(code)\n"
     ]
    }
   ],
   "source": [
    "id2word = corpora.Dictionary(data_lemmatized)\n",
    "texts = data_lemmatized\n",
    "corpus = [id2word.doc2bow(text) for text in texts]\n",
    "print(corpus[0])"
   ]
  },
  {
   "cell_type": "code",
   "execution_count": 9,
   "metadata": {},
   "outputs": [
    {
     "output_type": "stream",
     "name": "stderr",
     "text": [
      "C:\\Users\\0626t\\anaconda3\\lib\\site-packages\\ipykernel\\ipkernel.py:287: DeprecationWarning: `should_run_async` will not call `transform_cell` automatically in the future. Please pass the result to `transformed_cell` argument and any exception that happen during thetransform in `preprocessing_exc_tuple` in IPython 7.17 and above.\n",
      "  and should_run_async(code)\n",
      "[(0, '0.031*\"police\" + 0.016*\"state\" + 0.015*\"covid\" + 0.015*\"aid\" + 0.014*\"dead\" + 0.014*\"fire\" + 0.013*\"rule\" + 0.013*\"arrest\" + 0.012*\"vaccine\" + 0.012*\"allege\"'), (1, '0.024*\"covid\" + 0.021*\"gaza\" + 0.017*\"vaccinated\" + 0.017*\"fire\" + 0.015*\"american\" + 0.014*\"death\" + 0.014*\"citizen\" + 0.014*\"get\" + 0.014*\"israel\" + 0.014*\"rocket\"'), (2, '0.025*\"charge\" + 0.022*\"say\" + 0.020*\"covid\" + 0.020*\"report\" + 0.018*\"fuel\" + 0.018*\"official\" + 0.017*\"man\" + 0.013*\"gas\" + 0.013*\"pipeline\" + 0.011*\"new\"'), (3, '0.035*\"pipeline\" + 0.018*\"colonial\" + 0.018*\"hack\" + 0.016*\"sex\" + 0.013*\"large\" + 0.012*\"israel\" + 0.011*\"old\" + 0.011*\"new\" + 0.011*\"target\" + 0.011*\"gay\"')]\n"
     ]
    }
   ],
   "source": [
    "lda_model = gensim.models.ldamodel.LdaModel(corpus=corpus,\n",
    "                                           id2word=id2word,\n",
    "                                           num_topics=4, \n",
    "                                           random_state=100,\n",
    "                                           update_every=1,\n",
    "                                           chunksize=100,\n",
    "                                           passes=10,\n",
    "                                           alpha='auto',\n",
    "                                           per_word_topics=True)\n",
    "# Print the KeywordS in the 20 topics\n",
    "print(lda_model.print_topics())\n",
    "doc_lda = lda_model[corpus]"
   ]
  },
  {
   "cell_type": "code",
   "execution_count": 10,
   "metadata": {},
   "outputs": [
    {
     "output_type": "stream",
     "name": "stderr",
     "text": [
      "C:\\Users\\0626t\\anaconda3\\lib\\site-packages\\ipykernel\\ipkernel.py:287: DeprecationWarning: `should_run_async` will not call `transform_cell` automatically in the future. Please pass the result to `transformed_cell` argument and any exception that happen during thetransform in `preprocessing_exc_tuple` in IPython 7.17 and above.\n  and should_run_async(code)\n"
     ]
    },
    {
     "output_type": "execute_result",
     "data": {
      "text/plain": [
       "PreparedData(topic_coordinates=              x         y  topics  cluster       Freq\n",
       "topic                                                \n",
       "2      0.271075  0.141056       1        1  28.439726\n",
       "1      0.139656 -0.277177       2        1  24.682376\n",
       "0     -0.269716 -0.149351       3        1  23.589668\n",
       "3     -0.141015  0.285472       4        1  23.288230, topic_info=         Term        Freq       Total Category  logprob  loglift\n",
       "83     police   76.000000   76.000000  Default  30.0000  30.0000\n",
       "194  pipeline  121.000000  121.000000  Default  29.0000  29.0000\n",
       "232    charge   72.000000   72.000000  Default  28.0000  28.0000\n",
       "20       gaza   54.000000   54.000000  Default  27.0000  27.0000\n",
       "267    report   58.000000   58.000000  Default  26.0000  26.0000\n",
       "..        ...         ...         ...      ...      ...      ...\n",
       "69    convict   19.374936   25.220308   Topic4  -4.8166   1.1936\n",
       "176       old   27.213376   54.549811   Topic4  -4.4768   0.7618\n",
       "270    israel   28.284248   74.532559   Topic4  -4.4382   0.4883\n",
       "49        new   26.798247   74.535510   Topic4  -4.4922   0.4343\n",
       "11        man   23.930661   92.501768   Topic4  -4.6054   0.1052\n",
       "\n",
       "[181 rows x 6 columns], token_table=      Topic      Freq           Term\n",
       "term                                \n",
       "107       2  0.986179  ahmaud_arbery\n",
       "138       2  0.027514            aid\n",
       "138       3  0.963001            aid\n",
       "17        2  0.950972            air\n",
       "87        2  0.930289      airstrike\n",
       "...     ...       ...            ...\n",
       "159       3  0.959400          whale\n",
       "143       1  0.519153          woman\n",
       "143       3  0.375938          woman\n",
       "143       4  0.107411          woman\n",
       "4         2  0.936913         worker\n",
       "\n",
       "[179 rows x 3 columns], R=30, lambda_step=0.01, plot_opts={'xlab': 'PC1', 'ylab': 'PC2'}, topic_order=[3, 2, 1, 4])"
      ],
      "text/html": "\n<link rel=\"stylesheet\" type=\"text/css\" href=\"https://cdn.jsdelivr.net/gh/bmabey/pyLDAvis@3.3.1/pyLDAvis/js/ldavis.v1.0.0.css\">\n\n\n<div id=\"ldavis_el1715621966883740163377467655\"></div>\n<script type=\"text/javascript\">\n\nvar ldavis_el1715621966883740163377467655_data = {\"mdsDat\": {\"x\": [0.27107536892288325, 0.13965632271554534, -0.2697164934815309, -0.14101519815689775], \"y\": [0.14105608820287208, -0.27717695811011106, -0.1493510780736017, 0.2854719479808407], \"topics\": [1, 2, 3, 4], \"cluster\": [1, 1, 1, 1], \"Freq\": [28.439725805866956, 24.682375856625352, 23.58966789476083, 23.28823044274686]}, \"tinfo\": {\"Term\": [\"police\", \"pipeline\", \"charge\", \"gaza\", \"report\", \"colonial\", \"official\", \"fuel\", \"hack\", \"vaccinated\", \"sex\", \"fire\", \"state\", \"american\", \"citizen\", \"aid\", \"gas\", \"get\", \"rocket\", \"large\", \"vaccine\", \"allege\", \"dead\", \"shoot\", \"whale\", \"destroyer\", \"hull\", \"arrive\", \"australian\", \"unemployment\", \"charge\", \"report\", \"official\", \"fuel\", \"gas\", \"close\", \"day\", \"fight\", \"university\", \"speaking\", \"former\", \"sexual\", \"event\", \"michigan\", \"station\", \"bankruptcy\", \"area\", \"attend\", \"brett\", \"favre\", \"mississippi\", \"never\", \"owe\", \"hate\", \"run\", \"life\", \"indict\", \"outage\", \"orders_gm\", \"pressure_mexico\", \"say\", \"man\", \"covid\", \"new\", \"woman\", \"pipeline\", \"death\", \"fee\", \"gaza\", \"vaccinated\", \"american\", \"citizen\", \"rocket\", \"get\", \"county\", \"strike\", \"air\", \"fda\", \"car\", \"trace\", \"bitcoin\", \"purchase\", \"ahmaud_arbery\", \"arrest_law\", \"georgia_repeal\", \"npr\", \"israeli\", \"destroy\", \"st\", \"tower\", \"program\", \"record\", \"carry\", \"homeless\", \"least\", \"airstrike\", \"worker\", \"still\", \"tesla\", \"fire\", \"covid\", \"court\", \"death\", \"israel\", \"school\", \"say\", \"stop\", \"month\", \"police\", \"state\", \"vaccine\", \"shoot\", \"arrive\", \"australian\", \"destroyer\", \"hull\", \"whale\", \"allege\", \"unemployment\", \"stick\", \"amazon\", \"injure\", \"aid\", \"west\", \"restaurant\", \"girl\", \"fraudulent\", \"fund\", \"payments_return\", \"secret_service\", \"seize\", \"governor\", \"alamitos\", \"anger_grow\", \"board\", \"debate\", \"go_virtual\", \"teen\", \"dead\", \"rule\", \"pay\", \"arrest\", \"fire\", \"covid\", \"colonial\", \"hack\", \"sex\", \"large\", \"tension\", \"first\", \"bank\", \"chicago\", \"gay\", \"cyber\", \"inflation\", \"ecuador\", \"return\", \"shrunken_head\", \"shut\", \"restart\", \"consensual\", \"montana\", \"offender\", \"register\", \"urge\", \"spread\", \"bridge\", \"kill\", \"closes_sharply\", \"low\", \"wall_street\", \"chief\", \"criminal\", \"seek\", \"pipeline\", \"target\", \"convict\", \"old\", \"israel\", \"new\", \"man\"], \"Freq\": [76.0, 121.0, 72.0, 54.0, 58.0, 44.0, 52.0, 52.0, 42.0, 44.0, 39.0, 75.0, 38.0, 38.0, 37.0, 36.0, 39.0, 35.0, 35.0, 30.0, 30.0, 30.0, 43.0, 28.0, 28.0, 28.0, 28.0, 28.0, 28.0, 27.0, 72.22333225513735, 57.77514534061123, 51.45020199925735, 51.59797326405269, 39.03259730578962, 30.212445152261626, 28.282386156652432, 27.053580513857888, 26.343123103597435, 25.970253968934884, 23.760324658675998, 23.475641337944033, 23.667208780257287, 23.34152779459371, 22.362961717182706, 22.198926139695875, 21.745463653751752, 20.430632332957778, 20.430632332957778, 20.430632332957778, 20.430632332957778, 20.430632332957778, 20.430632332957778, 19.58740618986999, 19.598370206836265, 19.379872525456875, 19.26449513276338, 18.255772904404175, 18.11812991400313, 18.11812991400313, 63.59410236154619, 49.43452158549218, 57.78337754105965, 32.104492833432566, 28.722708155968075, 36.8470950903137, 27.825245858933904, 20.430632332957778, 53.49460132374051, 43.8684105095399, 37.706477847065806, 36.743030427582966, 34.328635248631954, 34.54187441536506, 23.644555607693253, 23.62652401586447, 23.472003291442793, 22.725461840385695, 22.46975203755272, 22.422619932548468, 22.22021342416639, 22.22021342416639, 21.594541759059084, 21.594541759059084, 21.594541759059084, 21.594541759059084, 27.995383562744752, 21.503292264875206, 20.59488939812127, 18.384033608616537, 18.277302981642027, 18.09307927340595, 17.707591388371814, 17.613943824781988, 17.17958612041052, 16.484166075039393, 18.413508598640124, 17.329981692927966, 31.94919754251883, 42.27696659707245, 60.03592982990564, 26.663786418164293, 36.7533338568237, 34.411232791914756, 29.129878303195703, 30.804992392946247, 22.22021342416639, 21.594541759059084, 75.6328111244242, 37.66678142265344, 29.39028340638486, 27.90236060986771, 27.4435054207016, 27.4435054207016, 27.4435054207016, 27.4435054207016, 27.4435054207016, 29.339446017826788, 26.460047852059116, 24.61212887448019, 24.784084975167, 23.673721351992196, 35.289127553197304, 24.28308583023791, 23.433400999018623, 22.737461220306308, 22.576759163528774, 22.576759163528774, 22.576759163528774, 22.576759163528774, 22.576759163528774, 22.74645497168886, 21.596051880897825, 21.596051880897825, 21.596051880897825, 21.596051880897825, 21.596051880897825, 21.939214414820025, 33.698353543593555, 31.524762767269248, 27.620104040304437, 31.49587799004464, 33.10778720249566, 37.11741517890078, 44.260806771449715, 41.94113046294847, 38.513181403454205, 29.994994533722988, 25.268396250427212, 25.214953877191096, 22.893886560059695, 23.50741499153893, 25.36137536895889, 21.273218838377304, 20.921650323827613, 20.593550621550797, 20.593550621550797, 20.593550621550797, 20.57948449261445, 19.77762151766202, 19.374935665134633, 19.374935665134633, 19.374935665134633, 19.374935665134633, 19.17061343913664, 17.544617976066313, 16.768391691420128, 19.682368635023362, 15.801852465609619, 15.801852465609619, 15.801852465609619, 15.630335974396363, 15.630335974396363, 15.630335974396363, 84.15631637620343, 26.04587421992249, 19.374935665134633, 27.213376296721947, 28.284247857335572, 26.79824715866006, 23.930660575790547], \"Total\": [76.0, 121.0, 72.0, 54.0, 58.0, 44.0, 52.0, 52.0, 42.0, 44.0, 39.0, 75.0, 38.0, 38.0, 37.0, 36.0, 39.0, 35.0, 35.0, 30.0, 30.0, 30.0, 43.0, 28.0, 28.0, 28.0, 28.0, 28.0, 28.0, 27.0, 72.94509697149473, 58.488853122275025, 52.15927044375344, 52.39476520007365, 39.75156872248659, 30.948331263598696, 28.991289549296393, 27.76248390650185, 27.052026496241396, 26.69650813136245, 24.469705819396495, 24.184544730587994, 24.383488603285855, 24.061824629495053, 23.073924054078724, 22.908528676269494, 22.454367507846875, 21.13953572560174, 21.13953572560174, 21.13953572560174, 21.13953572560174, 21.13953572560174, 21.13953572560174, 20.296309582513953, 20.30770070021902, 20.09654419182631, 19.977175136590066, 18.964676297048136, 18.827033306647092, 18.827033306647092, 128.48326845438484, 92.50176776734239, 164.20707337266325, 74.53551011229834, 55.86020577563072, 121.48545194188372, 84.6598887329997, 30.061420944265794, 54.20886454336884, 44.582191787758596, 38.42067693222914, 37.45681170580166, 35.0428274623429, 35.283902688189436, 24.358336885911942, 24.341788509273176, 24.185784569661482, 23.439243118604384, 23.183562073135466, 23.140757586753505, 22.93399470238508, 22.93399470238508, 22.308323037277773, 22.308323037277773, 22.308323037277773, 22.308323037277773, 28.94088242567178, 22.23408388651212, 21.30867067633996, 19.097814886835227, 18.991084259860717, 18.811005985416276, 18.421372666590504, 18.327725103000677, 17.894229029137737, 17.198952452430163, 19.21203388262124, 18.09150705620022, 48.41885840908146, 75.8552812733944, 164.20707337266325, 38.617879104280604, 84.6598887329997, 74.53255886338462, 56.59932290274954, 128.48326845438484, 43.09905505231954, 50.21766895253795, 76.35795676300594, 38.36921015695674, 30.089365980218393, 28.6082494931719, 28.142587994535134, 28.142587994535134, 28.142587994535134, 28.142587994535134, 28.142587994535134, 30.115405002694807, 27.166843969707838, 25.311211448313724, 25.490865351928164, 24.37280392582573, 36.344713341589575, 25.011561795387852, 24.14046211884146, 23.4385411024394, 23.275841737362306, 23.275841737362306, 23.275841737362306, 23.275841737362306, 23.275841737362306, 23.45179185532951, 22.295134454731357, 22.295134454731357, 22.295134454731357, 22.295134454731357, 22.295134454731357, 22.65779499491218, 43.484740360912014, 40.742919027136274, 34.1423445358419, 44.65506978614444, 75.8552812733944, 164.20707337266325, 44.967785423017, 42.646877252376804, 39.218423293435805, 30.700236423704588, 25.973638140408813, 25.93937437892932, 23.60229172871931, 24.238896028321992, 26.178983317791406, 21.979743947760543, 21.626892213809214, 21.298792511532397, 21.298792511532397, 21.298792511532397, 21.28472638259605, 20.48633001838037, 20.080177555116233, 20.080177555116233, 20.080177555116233, 20.080177555116233, 19.87585532911824, 18.249859866047913, 17.475937594534113, 20.538974997301178, 16.50709435559122, 16.50709435559122, 16.50709435559122, 16.335577864377964, 16.335577864377964, 16.335577864377964, 121.48545194188372, 35.1428361311447, 25.220307968713215, 54.549811174600116, 74.53255886338462, 74.53551011229834, 92.50176776734239], \"Category\": [\"Default\", \"Default\", \"Default\", \"Default\", \"Default\", \"Default\", \"Default\", \"Default\", \"Default\", \"Default\", \"Default\", \"Default\", \"Default\", \"Default\", \"Default\", \"Default\", \"Default\", \"Default\", \"Default\", \"Default\", \"Default\", \"Default\", \"Default\", \"Default\", \"Default\", \"Default\", \"Default\", \"Default\", \"Default\", \"Default\", \"Topic1\", \"Topic1\", \"Topic1\", \"Topic1\", \"Topic1\", \"Topic1\", \"Topic1\", \"Topic1\", \"Topic1\", \"Topic1\", \"Topic1\", \"Topic1\", \"Topic1\", \"Topic1\", \"Topic1\", \"Topic1\", \"Topic1\", \"Topic1\", \"Topic1\", \"Topic1\", \"Topic1\", \"Topic1\", \"Topic1\", \"Topic1\", \"Topic1\", \"Topic1\", \"Topic1\", \"Topic1\", \"Topic1\", \"Topic1\", \"Topic1\", \"Topic1\", \"Topic1\", \"Topic1\", \"Topic1\", \"Topic1\", \"Topic1\", \"Topic1\", \"Topic2\", \"Topic2\", \"Topic2\", \"Topic2\", \"Topic2\", \"Topic2\", \"Topic2\", \"Topic2\", \"Topic2\", \"Topic2\", \"Topic2\", \"Topic2\", \"Topic2\", \"Topic2\", \"Topic2\", \"Topic2\", \"Topic2\", \"Topic2\", \"Topic2\", \"Topic2\", \"Topic2\", \"Topic2\", \"Topic2\", \"Topic2\", \"Topic2\", \"Topic2\", \"Topic2\", \"Topic2\", \"Topic2\", \"Topic2\", \"Topic2\", \"Topic2\", \"Topic2\", \"Topic2\", \"Topic2\", \"Topic2\", \"Topic2\", \"Topic2\", \"Topic2\", \"Topic2\", \"Topic3\", \"Topic3\", \"Topic3\", \"Topic3\", \"Topic3\", \"Topic3\", \"Topic3\", \"Topic3\", \"Topic3\", \"Topic3\", \"Topic3\", \"Topic3\", \"Topic3\", \"Topic3\", \"Topic3\", \"Topic3\", \"Topic3\", \"Topic3\", \"Topic3\", \"Topic3\", \"Topic3\", \"Topic3\", \"Topic3\", \"Topic3\", \"Topic3\", \"Topic3\", \"Topic3\", \"Topic3\", \"Topic3\", \"Topic3\", \"Topic3\", \"Topic3\", \"Topic3\", \"Topic3\", \"Topic3\", \"Topic3\", \"Topic4\", \"Topic4\", \"Topic4\", \"Topic4\", \"Topic4\", \"Topic4\", \"Topic4\", \"Topic4\", \"Topic4\", \"Topic4\", \"Topic4\", \"Topic4\", \"Topic4\", \"Topic4\", \"Topic4\", \"Topic4\", \"Topic4\", \"Topic4\", \"Topic4\", \"Topic4\", \"Topic4\", \"Topic4\", \"Topic4\", \"Topic4\", \"Topic4\", \"Topic4\", \"Topic4\", \"Topic4\", \"Topic4\", \"Topic4\", \"Topic4\", \"Topic4\", \"Topic4\", \"Topic4\", \"Topic4\", \"Topic4\", \"Topic4\"], \"logprob\": [30.0, 29.0, 28.0, 27.0, 26.0, 25.0, 24.0, 23.0, 22.0, 21.0, 20.0, 19.0, 18.0, 17.0, 16.0, 15.0, 14.0, 13.0, 12.0, 11.0, 10.0, 9.0, 8.0, 7.0, 6.0, 5.0, 4.0, 3.0, 2.0, 1.0, -3.7006, -3.9238, -4.0398, -4.0369, -4.316, -4.5721, -4.6381, -4.6826, -4.7092, -4.7234, -4.8124, -4.8244, -4.8163, -4.8301, -4.873, -4.8803, -4.901, -4.9633, -4.9633, -4.9633, -4.9633, -4.9633, -4.9633, -5.0055, -5.0049, -5.0161, -5.0221, -5.0759, -5.0835, -5.0835, -3.8279, -4.0797, -3.9237, -4.5114, -4.6227, -4.3736, -4.6544, -4.9633, -3.8591, -4.0575, -4.2088, -4.2347, -4.3027, -4.2965, -4.6755, -4.6763, -4.6829, -4.7152, -4.7265, -4.7286, -4.7377, -4.7377, -4.7662, -4.7662, -4.7662, -4.7662, -4.5066, -4.7705, -4.8136, -4.9272, -4.933, -4.9432, -4.9647, -4.97, -4.995, -5.0363, -4.9256, -4.9862, -4.3745, -4.0944, -3.7437, -4.5554, -4.2345, -4.3003, -4.4669, -4.411, -4.7377, -4.7662, -3.4675, -4.1646, -4.4127, -4.4647, -4.4813, -4.4813, -4.4813, -4.4813, -4.4813, -4.4145, -4.5178, -4.5902, -4.5832, -4.629, -4.2298, -4.6036, -4.6392, -4.6694, -4.6765, -4.6765, -4.6765, -4.6765, -4.6765, -4.669, -4.7209, -4.7209, -4.7209, -4.7209, -4.7209, -4.7051, -4.276, -4.3426, -4.4749, -4.3435, -4.2936, -4.1793, -3.9904, -4.0443, -4.1295, -4.3795, -4.551, -4.5531, -4.6497, -4.6232, -4.5473, -4.7231, -4.7398, -4.7556, -4.7556, -4.7556, -4.7562, -4.796, -4.8166, -4.8166, -4.8166, -4.8166, -4.8272, -4.9158, -4.961, -4.8008, -5.0204, -5.0204, -5.0204, -5.0313, -5.0313, -5.0313, -3.3479, -4.5207, -4.8166, -4.4768, -4.4382, -4.4922, -4.6054], \"loglift\": [30.0, 29.0, 28.0, 27.0, 26.0, 25.0, 24.0, 23.0, 22.0, 21.0, 20.0, 19.0, 18.0, 17.0, 16.0, 15.0, 14.0, 13.0, 12.0, 11.0, 10.0, 9.0, 8.0, 7.0, 6.0, 5.0, 4.0, 3.0, 2.0, 1.0, 1.2474, 1.2451, 1.2437, 1.2421, 1.2391, 1.2333, 1.2326, 1.2315, 1.2308, 1.2298, 1.228, 1.2276, 1.2276, 1.227, 1.2261, 1.2259, 1.2253, 1.2233, 1.2233, 1.2233, 1.2233, 1.2233, 1.2233, 1.2218, 1.2218, 1.2211, 1.2211, 1.2193, 1.219, 1.219, 0.5541, 0.6308, 0.213, 0.4151, 0.5922, 0.0644, 0.1447, 0.8712, 1.3858, 1.3829, 1.3803, 1.3798, 1.3785, 1.3778, 1.3693, 1.3693, 1.3691, 1.3682, 1.3678, 1.3676, 1.3675, 1.3675, 1.3666, 1.3666, 1.3666, 1.3666, 1.3659, 1.3657, 1.365, 1.361, 1.3608, 1.3602, 1.3596, 1.3594, 1.3583, 1.3566, 1.3566, 1.3561, 0.9833, 0.8145, 0.3929, 1.0287, 0.5647, 0.6262, 0.7348, -0.029, 0.7366, 0.5552, 1.4348, 1.4259, 1.4209, 1.4194, 1.4192, 1.4192, 1.4192, 1.4192, 1.4192, 1.4183, 1.418, 1.4164, 1.4162, 1.4153, 1.4149, 1.4148, 1.4146, 1.414, 1.4139, 1.4139, 1.4139, 1.4139, 1.4139, 1.4138, 1.4125, 1.4125, 1.4125, 1.4125, 1.4125, 1.4121, 1.1894, 1.1879, 1.2324, 1.0953, 0.6153, -0.0427, 1.4414, 1.4405, 1.4391, 1.434, 1.4297, 1.4289, 1.4267, 1.4266, 1.4255, 1.4245, 1.4241, 1.4235, 1.4235, 1.4235, 1.4235, 1.422, 1.4215, 1.4215, 1.4215, 1.4215, 1.4211, 1.4178, 1.4159, 1.4146, 1.4136, 1.4136, 1.4136, 1.4131, 1.4131, 1.4131, 1.0901, 1.1577, 1.1936, 0.7618, 0.4883, 0.4343, 0.1052]}, \"token.table\": {\"Topic\": [2, 2, 3, 2, 2, 3, 3, 3, 2, 3, 1, 1, 3, 2, 3, 1, 3, 4, 1, 2, 3, 1, 4, 2, 2, 1, 4, 4, 2, 1, 4, 4, 4, 3, 4, 2, 2, 3, 1, 2, 3, 4, 4, 4, 1, 2, 3, 1, 2, 3, 3, 2, 3, 4, 1, 1, 2, 1, 3, 1, 2, 3, 4, 1, 3, 1, 3, 1, 4, 2, 2, 2, 3, 3, 3, 4, 1, 2, 3, 1, 4, 3, 2, 3, 4, 2, 4, 4, 2, 1, 4, 1, 2, 3, 4, 1, 1, 4, 1, 2, 4, 1, 1, 2, 4, 2, 4, 1, 2, 3, 4, 1, 1, 1, 2, 3, 3, 1, 4, 3, 1, 2, 2, 2, 4, 1, 4, 3, 4, 2, 2, 3, 1, 1, 2, 3, 4, 2, 3, 4, 3, 4, 3, 4, 1, 3, 4, 4, 1, 4, 2, 3, 1, 3, 2, 1, 2, 4, 2, 2, 4, 3, 4, 1, 2, 2, 2, 3, 1, 4, 2, 3, 4, 3, 3, 1, 3, 4, 2], \"Freq\": [0.9861790132426109, 0.027514317986261052, 0.9630011295191367, 0.9509718377650265, 0.9302892164074357, 0.9867623828270421, 0.962962311063225, 0.9807434802565055, 0.9890507672998271, 0.9867623828270421, 0.9797648494134563, 0.29112036017987897, 0.6942100896597114, 0.9861790132426109, 0.9594000383064625, 0.946094571782782, 0.9594000383064625, 0.9744816420523079, 0.9603410289194774, 0.9592746612831499, 0.9867623828270421, 0.946094571782782, 0.9727661195881719, 0.9489482216148765, 0.9771258812132542, 0.9870437217752407, 0.990144104416189, 0.9794572394583152, 0.987804308882731, 0.9693575961973071, 0.9692802170589484, 0.9784782502871125, 0.9462067727164587, 0.19825293197064434, 0.7533611414884485, 0.9852889428539272, 0.6991580228186892, 0.2848421574446512, 0.35321255539565377, 0.3653922986851591, 0.2253252508558481, 0.054808844802773864, 0.9794572394583152, 0.9554251428001569, 0.9658073316259073, 0.2069691557383658, 0.7818834772338263, 0.33073513819875644, 0.4370428611912139, 0.23623938442768316, 0.9867623828270421, 0.9894718447718854, 0.9594000383064625, 0.985971387280729, 0.9842726112934399, 0.946094571782782, 0.9812603539977046, 0.6653045455529272, 0.29938704549881723, 0.9725354579557891, 0.5536859041973013, 0.4350389247264511, 0.9637857735037597, 0.9808045988430244, 0.9881490113021552, 0.9924655602794248, 0.9881490113021552, 0.981093356900367, 0.9549645109025238, 0.9776998733776888, 0.9861790132426109, 0.9919537617281643, 0.9812897440790903, 0.9867623828270421, 0.9807352948501102, 0.984831779158209, 0.9854008147979161, 0.9821186153132, 0.9594000383064625, 0.9510854197398371, 0.9710133010507663, 0.9847041018768177, 0.4561764753350374, 0.1610034618829544, 0.37567474439356024, 0.9674895045758115, 0.973758427702843, 0.9771911716235542, 0.9500269596593608, 0.9454361813971828, 0.9692802170589484, 0.5297196062592371, 0.043242416837488744, 0.1621590631405828, 0.25945450102493245, 0.9558709846054873, 0.946094571782782, 0.9462067727164587, 0.2588730275849053, 0.4380928159129167, 0.3186129570275758, 0.946094571782782, 0.42932556511369485, 0.20124635864704446, 0.36224344556468, 0.9861790132426109, 0.9462067727164587, 0.9777744122206703, 0.2749780370822697, 0.21998242966581574, 0.4949604667480854, 0.9560720325302076, 0.9491329943133124, 0.946094571782782, 0.17573485598510463, 0.8200959945971549, 0.9881490113021552, 0.30456321648867124, 0.6914408158121185, 0.995312122296345, 0.9560720325302076, 0.9478131818963356, 0.9592746612831499, 0.9568866233924421, 0.9462067727164587, 0.991641943786228, 0.9762607544668062, 0.9527572374867117, 0.985971387280729, 0.9702413435826911, 0.22089728018764856, 0.785412551778306, 0.9848480778419341, 0.4981193331232992, 0.24127655198159803, 0.1400960624409279, 0.1245298332808248, 0.5123736206143061, 0.38869722943154256, 0.1060083352995116, 0.9881490113021552, 0.9794572394583152, 0.9881490113021552, 0.9944305947283617, 0.9510205900593277, 0.9787386679035683, 0.985971387280729, 0.9866229719152573, 0.973910141059077, 0.9863089433079564, 0.9855143156967228, 0.9903774366100732, 0.9534572424022134, 0.9877046008268222, 0.9396674332984246, 0.3248331078954024, 0.5104520266927751, 0.1624165539477012, 0.9859587758252452, 0.2560977140949621, 0.7398378407187794, 0.9709682696370107, 0.962514371874071, 0.3304497570929726, 0.6608995141859452, 0.9425162044275553, 0.950703533258284, 0.9570489685511899, 0.9611109912084567, 0.9559337037518527, 0.9869411582425058, 0.9637956485711738, 0.9692802170589484, 0.9595562322871664, 0.9594000383064625, 0.5191531179903277, 0.37593846475161663, 0.10741098992903332, 0.9369127761263415], \"Term\": [\"ahmaud_arbery\", \"aid\", \"aid\", \"air\", \"airstrike\", \"alamitos\", \"allege\", \"amazon\", \"american\", \"anger_grow\", \"area\", \"arrest\", \"arrest\", \"arrest_law\", \"arrive\", \"attend\", \"australian\", \"bank\", \"bankruptcy\", \"bitcoin\", \"board\", \"brett\", \"bridge\", \"car\", \"carry\", \"charge\", \"chicago\", \"chief\", \"citizen\", \"close\", \"closes_sharply\", \"colonial\", \"consensual\", \"convict\", \"convict\", \"county\", \"court\", \"court\", \"covid\", \"covid\", \"covid\", \"covid\", \"criminal\", \"cyber\", \"day\", \"dead\", \"dead\", \"death\", \"death\", \"death\", \"debate\", \"destroy\", \"destroyer\", \"ecuador\", \"event\", \"favre\", \"fda\", \"fee\", \"fee\", \"fight\", \"fire\", \"fire\", \"first\", \"former\", \"fraudulent\", \"fuel\", \"fund\", \"gas\", \"gay\", \"gaza\", \"georgia_repeal\", \"get\", \"girl\", \"go_virtual\", \"governor\", \"hack\", \"hate\", \"homeless\", \"hull\", \"indict\", \"inflation\", \"injure\", \"israel\", \"israel\", \"israel\", \"israeli\", \"kill\", \"large\", \"least\", \"life\", \"low\", \"man\", \"man\", \"man\", \"man\", \"michigan\", \"mississippi\", \"montana\", \"month\", \"month\", \"month\", \"never\", \"new\", \"new\", \"new\", \"npr\", \"offender\", \"official\", \"old\", \"old\", \"old\", \"orders_gm\", \"outage\", \"owe\", \"pay\", \"pay\", \"payments_return\", \"pipeline\", \"pipeline\", \"police\", \"pressure_mexico\", \"program\", \"purchase\", \"record\", \"register\", \"report\", \"restart\", \"restaurant\", \"return\", \"rocket\", \"rule\", \"rule\", \"run\", \"say\", \"say\", \"say\", \"say\", \"school\", \"school\", \"school\", \"secret_service\", \"seek\", \"seize\", \"sex\", \"sexual\", \"shoot\", \"shrunken_head\", \"shut\", \"speaking\", \"spread\", \"st\", \"state\", \"station\", \"stick\", \"still\", \"stop\", \"stop\", \"stop\", \"strike\", \"target\", \"target\", \"teen\", \"tension\", \"tesla\", \"tesla\", \"tower\", \"trace\", \"unemployment\", \"university\", \"urge\", \"vaccinated\", \"vaccine\", \"wall_street\", \"west\", \"whale\", \"woman\", \"woman\", \"woman\", \"worker\"]}, \"R\": 30, \"lambda.step\": 0.01, \"plot.opts\": {\"xlab\": \"PC1\", \"ylab\": \"PC2\"}, \"topic.order\": [3, 2, 1, 4]};\n\nfunction LDAvis_load_lib(url, callback){\n  var s = document.createElement('script');\n  s.src = url;\n  s.async = true;\n  s.onreadystatechange = s.onload = callback;\n  s.onerror = function(){console.warn(\"failed to load library \" + url);};\n  document.getElementsByTagName(\"head\")[0].appendChild(s);\n}\n\nif(typeof(LDAvis) !== \"undefined\"){\n   // already loaded: just create the visualization\n   !function(LDAvis){\n       new LDAvis(\"#\" + \"ldavis_el1715621966883740163377467655\", ldavis_el1715621966883740163377467655_data);\n   }(LDAvis);\n}else if(typeof define === \"function\" && define.amd){\n   // require.js is available: use it to load d3/LDAvis\n   require.config({paths: {d3: \"https://d3js.org/d3.v5\"}});\n   require([\"d3\"], function(d3){\n      window.d3 = d3;\n      LDAvis_load_lib(\"https://cdn.jsdelivr.net/gh/bmabey/pyLDAvis@3.3.1/pyLDAvis/js/ldavis.v3.0.0.js\", function(){\n        new LDAvis(\"#\" + \"ldavis_el1715621966883740163377467655\", ldavis_el1715621966883740163377467655_data);\n      });\n    });\n}else{\n    // require.js not available: dynamically load d3 & LDAvis\n    LDAvis_load_lib(\"https://d3js.org/d3.v5.js\", function(){\n         LDAvis_load_lib(\"https://cdn.jsdelivr.net/gh/bmabey/pyLDAvis@3.3.1/pyLDAvis/js/ldavis.v3.0.0.js\", function(){\n                 new LDAvis(\"#\" + \"ldavis_el1715621966883740163377467655\", ldavis_el1715621966883740163377467655_data);\n            })\n         });\n}\n</script>"
     },
     "metadata": {},
     "execution_count": 10
    }
   ],
   "source": [
    "import pyLDAvis.gensim_models\n",
    "pyLDAvis.enable_notebook()\n",
    "vis = pyLDAvis.gensim_models.prepare(lda_model, corpus, id2word, mds='mmds')\n",
    "vis"
   ]
  },
  {
   "cell_type": "code",
   "execution_count": 11,
   "metadata": {},
   "outputs": [
    {
     "output_type": "stream",
     "name": "stderr",
     "text": [
      "C:\\Users\\0626t\\anaconda3\\lib\\site-packages\\ipykernel\\ipkernel.py:287: DeprecationWarning: `should_run_async` will not call `transform_cell` automatically in the future. Please pass the result to `transformed_cell` argument and any exception that happen during thetransform in `preprocessing_exc_tuple` in IPython 7.17 and above.\n  and should_run_async(code)\n"
     ]
    },
    {
     "output_type": "execute_result",
     "data": {
      "text/plain": [
       "   Unnamed: 0  Unnamed: 0.1  \\\n",
       "0           0             0   \n",
       "1           1             1   \n",
       "2           2             2   \n",
       "3           3             3   \n",
       "4           4             4   \n",
       "5           5             5   \n",
       "6           6             6   \n",
       "7           7             7   \n",
       "8           8             8   \n",
       "9           9             9   \n",
       "\n",
       "                                               title  score      id  \\\n",
       "0  Bosnian Serb ex-leader Karadzic serve genocide...     44  naup26   \n",
       "1  Taiwan computer brand wiped mainland China’s o...     32  nb3z2v   \n",
       "2    \"A Hell Out Here\": COVID-19 Ravages Rural India     11  nbcuse   \n",
       "3  Federal budget 2021: Foreign aid cut national ...      3  nbafrh   \n",
       "4  Weary Gaza marks Muslim feast violence spreads...     17  nbdzub   \n",
       "5  Bolsonaro's approval falls 24%, lowest ever, s...     59  nbfg0w   \n",
       "6      There 7m-13m excess deaths worldwide pandemic     23  nbhh5x   \n",
       "7  Japanese towns drop plans host Olympic athlete...     31  nbbwnf   \n",
       "8  Brazilian police target indigenous leaders gov...     38  nbcwk6   \n",
       "9  Climate emissions shrinking stratosphere, scie...     56  napocb   \n",
       "\n",
       "                                                 url  \\\n",
       "0  https://www.aljazeera.com/news/2021/5/12/bosni...   \n",
       "1  https://www.scmp.com/tech/tech-trends/article/...   \n",
       "2  https://www.ndtv.com/india-news/a-hell-out-her...   \n",
       "3  https://www.news.com.au/finance/economy/federa...   \n",
       "4  https://apnews.com/article/middle-east-israel-...   \n",
       "5  https://www.reuters.com/world/americas/bolsona...   \n",
       "6  https://www.economist.com/briefing/2021/05/15/...   \n",
       "7  https://www.reuters.com/lifestyle/sports/olymp...   \n",
       "8  https://www.theguardian.com/world/2021/may/13/...   \n",
       "9  https://www.theguardian.com/environment/2021/m...   \n",
       "\n",
       "                                            coms_num                author  \\\n",
       "0  https://www.aljazeera.com/news/2021/5/12/bosni...                vokiel   \n",
       "1  https://www.scmp.com/tech/tech-trends/article/...    ccpshrilldetective   \n",
       "2  https://www.ndtv.com/india-news/a-hell-out-her...  Revolutionary_Ant852   \n",
       "3  https://www.news.com.au/finance/economy/federa...            kamikkazet   \n",
       "4  https://apnews.com/article/middle-east-israel-...                GDW312   \n",
       "5  https://www.reuters.com/world/americas/bolsona...        ThatsMySpatula   \n",
       "6  https://www.economist.com/briefing/2021/05/15/...        Kill-Bacon-Tea   \n",
       "7  https://www.reuters.com/lifestyle/sports/olymp...               BenTom_   \n",
       "8  https://www.theguardian.com/world/2021/may/13/...         PauloPatricio   \n",
       "9  https://www.theguardian.com/environment/2021/m...      Akephalos_Agares   \n",
       "\n",
       "   upvotes  word_count  \n",
       "0       44          11  \n",
       "1       32          11  \n",
       "2       11           8  \n",
       "3        3          13  \n",
       "4       17          10  \n",
       "5       59          44  \n",
       "6       23          10  \n",
       "7       31          10  \n",
       "8       38           8  \n",
       "9       56           7  "
      ],
      "text/html": "<div>\n<style scoped>\n    .dataframe tbody tr th:only-of-type {\n        vertical-align: middle;\n    }\n\n    .dataframe tbody tr th {\n        vertical-align: top;\n    }\n\n    .dataframe thead th {\n        text-align: right;\n    }\n</style>\n<table border=\"1\" class=\"dataframe\">\n  <thead>\n    <tr style=\"text-align: right;\">\n      <th></th>\n      <th>Unnamed: 0</th>\n      <th>Unnamed: 0.1</th>\n      <th>title</th>\n      <th>score</th>\n      <th>id</th>\n      <th>url</th>\n      <th>coms_num</th>\n      <th>author</th>\n      <th>upvotes</th>\n      <th>word_count</th>\n    </tr>\n  </thead>\n  <tbody>\n    <tr>\n      <th>0</th>\n      <td>0</td>\n      <td>0</td>\n      <td>Bosnian Serb ex-leader Karadzic serve genocide...</td>\n      <td>44</td>\n      <td>naup26</td>\n      <td>https://www.aljazeera.com/news/2021/5/12/bosni...</td>\n      <td>https://www.aljazeera.com/news/2021/5/12/bosni...</td>\n      <td>vokiel</td>\n      <td>44</td>\n      <td>11</td>\n    </tr>\n    <tr>\n      <th>1</th>\n      <td>1</td>\n      <td>1</td>\n      <td>Taiwan computer brand wiped mainland China’s o...</td>\n      <td>32</td>\n      <td>nb3z2v</td>\n      <td>https://www.scmp.com/tech/tech-trends/article/...</td>\n      <td>https://www.scmp.com/tech/tech-trends/article/...</td>\n      <td>ccpshrilldetective</td>\n      <td>32</td>\n      <td>11</td>\n    </tr>\n    <tr>\n      <th>2</th>\n      <td>2</td>\n      <td>2</td>\n      <td>\"A Hell Out Here\": COVID-19 Ravages Rural India</td>\n      <td>11</td>\n      <td>nbcuse</td>\n      <td>https://www.ndtv.com/india-news/a-hell-out-her...</td>\n      <td>https://www.ndtv.com/india-news/a-hell-out-her...</td>\n      <td>Revolutionary_Ant852</td>\n      <td>11</td>\n      <td>8</td>\n    </tr>\n    <tr>\n      <th>3</th>\n      <td>3</td>\n      <td>3</td>\n      <td>Federal budget 2021: Foreign aid cut national ...</td>\n      <td>3</td>\n      <td>nbafrh</td>\n      <td>https://www.news.com.au/finance/economy/federa...</td>\n      <td>https://www.news.com.au/finance/economy/federa...</td>\n      <td>kamikkazet</td>\n      <td>3</td>\n      <td>13</td>\n    </tr>\n    <tr>\n      <th>4</th>\n      <td>4</td>\n      <td>4</td>\n      <td>Weary Gaza marks Muslim feast violence spreads...</td>\n      <td>17</td>\n      <td>nbdzub</td>\n      <td>https://apnews.com/article/middle-east-israel-...</td>\n      <td>https://apnews.com/article/middle-east-israel-...</td>\n      <td>GDW312</td>\n      <td>17</td>\n      <td>10</td>\n    </tr>\n    <tr>\n      <th>5</th>\n      <td>5</td>\n      <td>5</td>\n      <td>Bolsonaro's approval falls 24%, lowest ever, s...</td>\n      <td>59</td>\n      <td>nbfg0w</td>\n      <td>https://www.reuters.com/world/americas/bolsona...</td>\n      <td>https://www.reuters.com/world/americas/bolsona...</td>\n      <td>ThatsMySpatula</td>\n      <td>59</td>\n      <td>44</td>\n    </tr>\n    <tr>\n      <th>6</th>\n      <td>6</td>\n      <td>6</td>\n      <td>There 7m-13m excess deaths worldwide pandemic</td>\n      <td>23</td>\n      <td>nbhh5x</td>\n      <td>https://www.economist.com/briefing/2021/05/15/...</td>\n      <td>https://www.economist.com/briefing/2021/05/15/...</td>\n      <td>Kill-Bacon-Tea</td>\n      <td>23</td>\n      <td>10</td>\n    </tr>\n    <tr>\n      <th>7</th>\n      <td>7</td>\n      <td>7</td>\n      <td>Japanese towns drop plans host Olympic athlete...</td>\n      <td>31</td>\n      <td>nbbwnf</td>\n      <td>https://www.reuters.com/lifestyle/sports/olymp...</td>\n      <td>https://www.reuters.com/lifestyle/sports/olymp...</td>\n      <td>BenTom_</td>\n      <td>31</td>\n      <td>10</td>\n    </tr>\n    <tr>\n      <th>8</th>\n      <td>8</td>\n      <td>8</td>\n      <td>Brazilian police target indigenous leaders gov...</td>\n      <td>38</td>\n      <td>nbcwk6</td>\n      <td>https://www.theguardian.com/world/2021/may/13/...</td>\n      <td>https://www.theguardian.com/world/2021/may/13/...</td>\n      <td>PauloPatricio</td>\n      <td>38</td>\n      <td>8</td>\n    </tr>\n    <tr>\n      <th>9</th>\n      <td>9</td>\n      <td>9</td>\n      <td>Climate emissions shrinking stratosphere, scie...</td>\n      <td>56</td>\n      <td>napocb</td>\n      <td>https://www.theguardian.com/environment/2021/m...</td>\n      <td>https://www.theguardian.com/environment/2021/m...</td>\n      <td>Akephalos_Agares</td>\n      <td>56</td>\n      <td>7</td>\n    </tr>\n  </tbody>\n</table>\n</div>"
     },
     "metadata": {},
     "execution_count": 11
    }
   ],
   "source": [
    "df = pd.read_csv('cleaned_WN2021.csv')\n",
    "df.head(10)"
   ]
  },
  {
   "cell_type": "code",
   "execution_count": 12,
   "metadata": {},
   "outputs": [
    {
     "output_type": "stream",
     "name": "stdout",
     "text": [
      "['bosnian', 'serb', 'ex', 'leader', 'karadzic', 'serve', 'genocide', 'term', 'uk', 'jail']\n",
      "C:\\Users\\0626t\\anaconda3\\lib\\site-packages\\ipykernel\\ipkernel.py:287: DeprecationWarning: `should_run_async` will not call `transform_cell` automatically in the future. Please pass the result to `transformed_cell` argument and any exception that happen during thetransform in `preprocessing_exc_tuple` in IPython 7.17 and above.\n",
      "  and should_run_async(code)\n"
     ]
    }
   ],
   "source": [
    "def sent_to_words(sentences):\n",
    "    for sentence in sentences:\n",
    "        yield(gensim.utils.simple_preprocess(str(sentence), deacc=True))  # deacc=True removes punctuations\n",
    "        \n",
    "data = df['title'].tolist()\n",
    "data_words = list(sent_to_words(data))\n",
    "\n",
    "print(data_words[0])"
   ]
  },
  {
   "cell_type": "code",
   "execution_count": 13,
   "metadata": {},
   "outputs": [
    {
     "output_type": "stream",
     "name": "stdout",
     "text": [
      "['bosnian', 'serb', 'ex', 'leader', 'karadzic', 'serve', 'genocide', 'term', 'uk', 'jail']\n",
      "C:\\Users\\0626t\\anaconda3\\lib\\site-packages\\ipykernel\\ipkernel.py:287: DeprecationWarning: `should_run_async` will not call `transform_cell` automatically in the future. Please pass the result to `transformed_cell` argument and any exception that happen during thetransform in `preprocessing_exc_tuple` in IPython 7.17 and above.\n",
      "  and should_run_async(code)\n"
     ]
    }
   ],
   "source": [
    "bigram = gensim.models.Phrases(data_words, min_count=5, threshold=100) # higher threshold fewer phrases.\n",
    "bigram_mod = gensim.models.phrases.Phraser(bigram)\n",
    "print(bigram_mod[data_words[0]])"
   ]
  },
  {
   "cell_type": "code",
   "execution_count": 14,
   "metadata": {},
   "outputs": [
    {
     "output_type": "stream",
     "name": "stderr",
     "text": [
      "C:\\Users\\0626t\\anaconda3\\lib\\site-packages\\ipykernel\\ipkernel.py:287: DeprecationWarning: `should_run_async` will not call `transform_cell` automatically in the future. Please pass the result to `transformed_cell` argument and any exception that happen during thetransform in `preprocessing_exc_tuple` in IPython 7.17 and above.\n",
      "  and should_run_async(code)\n",
      "['bosnian', 'serb', 'ex', 'leader', 'karadzic', 'serve', 'genocide', 'term', 'uk', 'jail']\n"
     ]
    }
   ],
   "source": [
    "def remove_stopwords(texts):\n",
    "    return [[word for word in simple_preprocess(str(doc)) if word not in stop_words] for doc in texts]\n",
    "\n",
    "def make_bigrams(texts):\n",
    "    return [bigram_mod[doc] for doc in texts]\n",
    "\n",
    "\n",
    "def lemmatization(texts, allowed_postags=['NOUN', 'ADJ', 'VERB', 'ADV']):\n",
    "    texts_out = []\n",
    "    for sent in texts:\n",
    "        doc = nlp(\" \".join(sent)) \n",
    "        texts_out.append([token.lemma_ for token in doc if token.pos_ in allowed_postags])\n",
    "    return texts_out\n",
    "\n",
    "data_words_nostops = remove_stopwords(data_words)\n",
    "data_words_bigrams = make_bigrams(data_words_nostops)\n",
    "nlp = spacy.load('en_core_web_sm', disable=['parser', 'ner'])\n",
    "data_lemmatized = lemmatization(data_words_bigrams, allowed_postags=['NOUN', 'ADJ', 'VERB', 'ADV'])\n",
    "\n",
    "print(data_lemmatized[0])"
   ]
  },
  {
   "cell_type": "code",
   "execution_count": 15,
   "metadata": {},
   "outputs": [
    {
     "output_type": "stream",
     "name": "stdout",
     "text": [
      "[(0, 1), (1, 1), (2, 1), (3, 1), (4, 1), (5, 1), (6, 1), (7, 1), (8, 1), (9, 1)]\n",
      "C:\\Users\\0626t\\anaconda3\\lib\\site-packages\\ipykernel\\ipkernel.py:287: DeprecationWarning: `should_run_async` will not call `transform_cell` automatically in the future. Please pass the result to `transformed_cell` argument and any exception that happen during thetransform in `preprocessing_exc_tuple` in IPython 7.17 and above.\n",
      "  and should_run_async(code)\n"
     ]
    }
   ],
   "source": [
    "id2word = corpora.Dictionary(data_lemmatized)\n",
    "texts = data_lemmatized\n",
    "corpus = [id2word.doc2bow(text) for text in texts]\n",
    "print(corpus[0])"
   ]
  },
  {
   "cell_type": "code",
   "execution_count": 16,
   "metadata": {},
   "outputs": [
    {
     "output_type": "stream",
     "name": "stderr",
     "text": [
      "C:\\Users\\0626t\\anaconda3\\lib\\site-packages\\ipykernel\\ipkernel.py:287: DeprecationWarning: `should_run_async` will not call `transform_cell` automatically in the future. Please pass the result to `transformed_cell` argument and any exception that happen during thetransform in `preprocessing_exc_tuple` in IPython 7.17 and above.\n",
      "  and should_run_async(code)\n",
      "[(0, '0.022*\"world\" + 0.018*\"report\" + 0.017*\"uk\" + 0.017*\"china\" + 0.015*\"covid\" + 0.014*\"import\" + 0.014*\"muslim\" + 0.013*\"accuse\" + 0.013*\"weary\" + 0.013*\"feast\"'), (1, '0.022*\"russia\" + 0.021*\"first\" + 0.017*\"china\" + 0.017*\"nuclear\" + 0.016*\"chernobyl\" + 0.014*\"find\" + 0.013*\"reaction\" + 0.013*\"spiking_inaccessible\" + 0.013*\"chamber\" + 0.012*\"law\"'), (2, '0.031*\"covid\" + 0.024*\"india\" + 0.022*\"case\" + 0.018*\"israel\" + 0.018*\"un\" + 0.017*\"record\" + 0.015*\"war\" + 0.014*\"follow\" + 0.013*\"fight\" + 0.012*\"palestinian\"'), (3, '0.070*\"israel\" + 0.055*\"gaza\" + 0.036*\"violence\" + 0.032*\"israeli\" + 0.021*\"death\" + 0.021*\"warn\" + 0.020*\"kill\" + 0.019*\"clash\" + 0.018*\"arab\" + 0.016*\"netanyahu\"')]\n"
     ]
    }
   ],
   "source": [
    "lda_model = gensim.models.ldamodel.LdaModel(corpus=corpus,\n",
    "                                           id2word=id2word,\n",
    "                                           num_topics=4, \n",
    "                                           random_state=100,\n",
    "                                           update_every=1,\n",
    "                                           chunksize=100,\n",
    "                                           passes=10,\n",
    "                                           alpha='auto',\n",
    "                                           per_word_topics=True)\n",
    "# Print the KeywordS in the 20 topics\n",
    "print(lda_model.print_topics())\n",
    "doc_lda = lda_model[corpus]"
   ]
  },
  {
   "cell_type": "code",
   "execution_count": 17,
   "metadata": {},
   "outputs": [
    {
     "output_type": "stream",
     "name": "stderr",
     "text": [
      "C:\\Users\\0626t\\anaconda3\\lib\\site-packages\\ipykernel\\ipkernel.py:287: DeprecationWarning: `should_run_async` will not call `transform_cell` automatically in the future. Please pass the result to `transformed_cell` argument and any exception that happen during thetransform in `preprocessing_exc_tuple` in IPython 7.17 and above.\n  and should_run_async(code)\n"
     ]
    },
    {
     "output_type": "execute_result",
     "data": {
      "text/plain": [
       "PreparedData(topic_coordinates=              x         y  topics  cluster       Freq\n",
       "topic                                                \n",
       "3     -0.283519 -0.184836       1        1  34.418515\n",
       "2     -0.153518  0.265275       2        1  24.384952\n",
       "0      0.192820 -0.236238       3        1  22.010670\n",
       "1      0.244217  0.155799       4        1  19.185863, topic_info=            Term        Freq       Total Category  logprob  loglift\n",
       "35        israel  310.000000  310.000000  Default  30.0000  30.0000\n",
       "34          gaza  216.000000  216.000000  Default  29.0000  29.0000\n",
       "39      violence  133.000000  133.000000  Default  28.0000  28.0000\n",
       "120      israeli  131.000000  131.000000  Default  27.0000  27.0000\n",
       "57         death   79.000000   79.000000  Default  26.0000  26.0000\n",
       "..           ...         ...         ...      ...      ...      ...\n",
       "191       record   20.315873   66.991725   Topic4  -4.6281   0.4578\n",
       "186  coronavirus   14.901675   21.945546   Topic4  -4.9381   1.2639\n",
       "21         india   16.676811   81.231071   Topic4  -4.8255   0.0677\n",
       "171         case   15.531332   73.112486   Topic4  -4.8967   0.1019\n",
       "173         long   14.909299   30.170653   Topic4  -4.9376   0.9461\n",
       "\n",
       "[196 rows x 6 columns], token_table=      Topic      Freq       Term\n",
       "term                            \n",
       "525       4  0.953908     abroad\n",
       "330       3  0.979590     accuse\n",
       "439       2  0.982860        act\n",
       "316       3  0.960907     africa\n",
       "288       1  0.984434  airstrike\n",
       "...     ...       ...        ...\n",
       "40        3  0.967297      weary\n",
       "505       3  0.945909    western\n",
       "942       1  0.990914   withdraw\n",
       "196       3  0.872588      world\n",
       "196       4  0.119767      world\n",
       "\n",
       "[203 rows x 3 columns], R=30, lambda_step=0.01, plot_opts={'xlab': 'PC1', 'ylab': 'PC2'}, topic_order=[4, 3, 1, 2])"
      ],
      "text/html": "\n<link rel=\"stylesheet\" type=\"text/css\" href=\"https://cdn.jsdelivr.net/gh/bmabey/pyLDAvis@3.3.1/pyLDAvis/js/ldavis.v1.0.0.css\">\n\n\n<div id=\"ldavis_el1715621966486938241216131882\"></div>\n<script type=\"text/javascript\">\n\nvar ldavis_el1715621966486938241216131882_data = {\"mdsDat\": {\"x\": [-0.2835194543003385, -0.15351813038535017, 0.19282048489983702, 0.2442170997858516], \"y\": [-0.18483600657501575, 0.2652752440301742, -0.23623810408773305, 0.15579886663257456], \"topics\": [1, 2, 3, 4], \"cluster\": [1, 1, 1, 1], \"Freq\": [34.4185147449259, 24.384951828905248, 22.01067014709813, 19.185863279070723]}, \"tinfo\": {\"Term\": [\"israel\", \"gaza\", \"violence\", \"israeli\", \"death\", \"warn\", \"russia\", \"kill\", \"india\", \"clash\", \"covid\", \"first\", \"arab\", \"china\", \"world\", \"case\", \"un\", \"report\", \"netanyahu\", \"toll\", \"spread\", \"record\", \"nuclear\", \"chernobyl\", \"follow\", \"import\", \"muslim\", \"accuse\", \"feast\", \"mark\", \"violence\", \"death\", \"warn\", \"kill\", \"clash\", \"arab\", \"netanyahu\", \"toll\", \"spread\", \"lynching\", \"troop\", \"rock\", \"rocket\", \"border\", \"airstrike\", \"hamas\", \"condemn\", \"call\", \"apartheid_tv\", \"jarrah\", \"poet_mohamme\", \"jewish\", \"continue\", \"bolsonaro\", \"day\", \"personnel\", \"withdraw\", \"mount\", \"religious\", \"amass\", \"gaza\", \"israeli\", \"israel\", \"city\", \"say\", \"military\", \"un\", \"follow\", \"fight\", \"surge\", \"fail\", \"riot\", \"australian_committee\", \"cannabis_the\", \"recommend\", \"thai_prisoner\", \"train\", \"urge\", \"international\", \"late\", \"chinese\", \"collapse\", \"ban_neonicotinoid\", \"bayer_cropscience\", \"expressed_disappointment\", \"legal_challenge\", \"overturn\", \"pesticides_rejecte\", \"traced_week\", \"japanese\", \"new\", \"brazil\", \"act\", \"response\", \"fear\", \"cuba\", \"visit\", \"india\", \"case\", \"covid\", \"record\", \"war\", \"investigation\", \"hama\", \"palestinian\", \"attack\", \"israel\", \"conflict\", \"report\", \"import\", \"muslim\", \"accuse\", \"feast\", \"mark\", \"weary\", \"interview\", \"brexit_shift\", \"historic_post\", \"overtaken_r\", \"pass\", \"want\", \"country\", \"energy\", \"western\", \"colonial_pipeline\", \"nearly\", \"ransom\", \"massive\", \"scientist\", \"food\", \"hungry\", \"africa\", \"official_tally\", \"disappearing_rainforest\", \"lawmakers_thursday\", \"sector\", \"arrive\", \"attend\", \"citizen\", \"world\", \"leader\", \"crime\", \"nation\", \"group\", \"uk\", \"china\", \"bill\", \"right\", \"covid\", \"first\", \"russia\", \"chernobyl\", \"reaction\", \"chamber\", \"spiking_inaccessible\", \"law\", \"chief\", \"ban\", \"imam\", \"news\", \"variant\", \"rise\", \"federal\", \"river\", \"shark\", \"formally_recognise\", \"sentient_being\", \"body\", \"secretary\", \"justice\", \"supreme\", \"appoint\", \"elisabetta_belloni\", \"female_spy\", \"statement\", \"pacifist_constitution\", \"push_revise\", \"support\", \"foreign\", \"abroad\", \"italy\", \"nuclear\", \"find\", \"china\", \"target\", \"rule\", \"uyghur\", \"pandemic\", \"court\", \"japan\", \"uk\", \"record\", \"coronavirus\", \"india\", \"case\", \"long\"], \"Freq\": [310.0, 216.0, 133.0, 131.0, 79.0, 79.0, 46.0, 74.0, 81.0, 72.0, 131.0, 44.0, 68.0, 76.0, 58.0, 73.0, 48.0, 43.0, 61.0, 59.0, 57.0, 66.0, 42.0, 33.0, 38.0, 34.0, 33.0, 32.0, 32.0, 32.0, 132.99873465355873, 79.17926883103947, 79.01921305756544, 73.92435201866023, 71.75725713937764, 67.36379492551109, 61.193263508292574, 58.464563330625474, 56.98455797626191, 46.10425240364889, 43.21326322921239, 42.672187608742234, 42.47969973708444, 39.153593225684986, 37.89407612588321, 31.438695861744442, 29.379389606057167, 33.29838390763178, 25.73445660621553, 25.73445660621553, 25.73445660621553, 25.711561726024122, 25.50527857764905, 24.836205920295697, 23.71523028338761, 22.506655333951045, 22.506655333951045, 21.265023122733258, 21.265023122733258, 20.528919035207853, 204.97554230210199, 118.70363269385334, 261.32799736497253, 52.13906775012113, 35.51780845315284, 27.694874136743543, 47.57169071667142, 38.22580319677119, 33.59722014825806, 30.446898506566335, 28.415545544800487, 28.079311627915843, 27.669171899626154, 27.669171899626154, 27.669171899626154, 24.72488100835707, 24.035461713466773, 22.92415305654419, 20.64169996390973, 19.938525600407676, 19.561393115473646, 19.44978266787219, 19.297228130080146, 19.297228130080146, 19.297228130080146, 19.297228130080146, 19.297228130080146, 19.297228130080146, 18.583175205159023, 17.46029039076166, 17.301795828706865, 25.808992031403847, 16.584555123573484, 16.686548096099976, 15.759689003686002, 15.186758407474592, 17.845010309338686, 64.09487953324873, 57.1294899555063, 81.45874172566376, 46.22438789779034, 39.05918810870409, 24.139153769155417, 26.257161202519065, 31.722158230847217, 22.75262316783988, 48.21184521215635, 22.186758346139857, 42.98685784412532, 33.418380119556915, 32.74585334080864, 31.967266010204018, 31.333925575826683, 31.333925575826683, 31.333925575826683, 28.696335669508453, 27.349345338657507, 27.349345338657507, 27.349345338657507, 26.763737927398463, 23.828353570350583, 26.647320524450944, 22.557021780260953, 19.38691470751158, 19.3610858802889, 19.3610858802889, 19.3610858802889, 17.563092775773683, 17.374095235584555, 16.100039302697724, 16.100039302697724, 15.945865924691446, 15.945865924691446, 14.631959547395873, 14.631959547395873, 14.631959547395873, 14.461954379859689, 14.461954379859689, 24.265522407274254, 51.29320345203743, 21.322259913657554, 19.53723897058305, 25.579032323510475, 29.40881061976134, 41.58392319303318, 39.49327852620814, 26.763737927398463, 25.678660655602698, 36.7825509939878, 43.82085442668746, 46.144840327088254, 32.35647077903431, 26.946840629109865, 26.80702882947829, 26.80702882947829, 25.503874671975673, 23.613393245853484, 21.682663848332425, 21.315586241467674, 20.922612397870452, 17.623604918563974, 16.866836962233155, 15.49850273579573, 14.604424320881357, 14.593825565798232, 14.309632953475228, 14.309632953475228, 14.11125550572198, 14.231493150039288, 13.680082002512894, 13.680082002512894, 13.6660990801295, 13.6660990801295, 13.6660990801295, 13.733521063099612, 12.744247454685404, 12.744247454685404, 12.636991809127782, 11.112169853401552, 12.761832346898396, 22.280985788632897, 35.75586489612876, 28.079849386717424, 36.324889008194155, 21.315595921580087, 20.70716600789593, 21.315586241467674, 23.835044587885992, 15.202351312595301, 17.58157387045827, 21.478343779567638, 20.315872631813942, 14.901675404852124, 16.67681054746028, 15.531331869039784, 14.909299461390138], \"Total\": [310.0, 216.0, 133.0, 131.0, 79.0, 79.0, 46.0, 74.0, 81.0, 72.0, 131.0, 44.0, 68.0, 76.0, 58.0, 73.0, 48.0, 43.0, 61.0, 59.0, 57.0, 66.0, 42.0, 33.0, 38.0, 34.0, 33.0, 32.0, 32.0, 32.0, 133.71547755079348, 79.89713362558389, 79.75117101011006, 74.63754707709818, 72.4675403875935, 68.07058883244042, 61.903450870181295, 59.18975762567197, 57.707454121612344, 46.808588747151205, 43.918143599560324, 43.37643111844432, 43.18651965622954, 39.87282315138132, 38.60085637997241, 32.14605734600162, 30.09893793018973, 34.14545939410871, 26.438700115917616, 26.438700115917616, 26.438700115917616, 26.424059462884433, 26.22599533965468, 25.540449429997782, 24.426176575178964, 23.21089884365313, 23.21089884365313, 21.969266632435343, 21.969266632435343, 21.233162544909938, 216.63541109607638, 131.26776478689078, 310.03263624415126, 58.91938011988441, 65.59097445541903, 40.62175258758986, 48.335163235787896, 38.95228354902143, 34.30592635612985, 31.155357240280544, 29.133983998799504, 28.78955271459704, 28.377630633340363, 28.377630633340363, 28.377630633340363, 25.43333974207128, 24.743920447180983, 23.65170470418434, 21.35025885401551, 20.65259799965203, 20.269851849187855, 20.158241401586398, 20.005686863794356, 20.005686863794356, 20.005686863794356, 20.005686863794356, 20.005686863794356, 20.005686863794356, 19.301339159079756, 18.16874912447587, 18.010654546541158, 26.866535994584993, 17.296457036909892, 17.41784170507293, 16.473377246051452, 15.895217141188803, 18.72164235530332, 81.23107051095991, 73.11248640043438, 131.807318337851, 66.9917245300939, 55.18574551614372, 32.97213256131431, 38.69615377325993, 57.44612492216426, 30.622489614700743, 310.03263624415126, 40.87220304610224, 43.69415614998931, 34.117827270202945, 33.45827179447154, 32.666713160850044, 32.04808329533631, 32.04808329533631, 32.04808329533631, 29.395782820154484, 28.048792489303537, 28.048792489303537, 28.048792489303537, 27.463968239577607, 24.527800720996613, 27.43343087347716, 23.256876284027616, 20.086501070274277, 20.06053303093493, 20.06053303093493, 20.06053303093493, 18.262539926419713, 18.092796113630452, 16.799486453343754, 16.799486453343754, 16.650940483831977, 16.650940483831977, 15.331406698041903, 15.331406698041903, 15.331406698041903, 15.161401530505717, 15.161401530505717, 26.10780737476208, 58.4468575403578, 23.933154529082024, 21.721918490399535, 32.0432464641641, 40.2638092863725, 72.87872705921721, 76.36415038825672, 47.36579677519563, 44.893715925665845, 131.807318337851, 44.50845492840588, 46.916562887020625, 33.02705835528763, 27.61742919574822, 27.477611426672574, 27.477611426672574, 26.20256526897429, 24.349563527801177, 22.36071502019147, 21.986168838661957, 21.61733467524519, 18.301799637375392, 17.556837436107784, 16.16908533299001, 15.275019009894397, 15.264408162992515, 14.980215550669511, 14.980215550669511, 14.781850636884196, 14.9249185201275, 14.350664599707176, 14.350664599707176, 14.336681677323783, 14.336681677323783, 14.336681677323783, 14.415021425529568, 13.414830051879687, 13.414830051879687, 13.311478048524826, 11.782752450595835, 13.628147168713536, 25.078591332605892, 42.713309341974984, 40.74644083394452, 76.36415038825672, 34.88196704367174, 35.61157280517706, 39.3211314346628, 56.09440765516045, 19.737814578416888, 34.48615051636622, 72.87872705921721, 66.9917245300939, 21.945545565920952, 81.23107051095991, 73.11248640043438, 30.17065267464241], \"Category\": [\"Default\", \"Default\", \"Default\", \"Default\", \"Default\", \"Default\", \"Default\", \"Default\", \"Default\", \"Default\", \"Default\", \"Default\", \"Default\", \"Default\", \"Default\", \"Default\", \"Default\", \"Default\", \"Default\", \"Default\", \"Default\", \"Default\", \"Default\", \"Default\", \"Default\", \"Default\", \"Default\", \"Default\", \"Default\", \"Default\", \"Topic1\", \"Topic1\", \"Topic1\", \"Topic1\", \"Topic1\", \"Topic1\", \"Topic1\", \"Topic1\", \"Topic1\", \"Topic1\", \"Topic1\", \"Topic1\", \"Topic1\", \"Topic1\", \"Topic1\", \"Topic1\", \"Topic1\", \"Topic1\", \"Topic1\", \"Topic1\", \"Topic1\", \"Topic1\", \"Topic1\", \"Topic1\", \"Topic1\", \"Topic1\", \"Topic1\", \"Topic1\", \"Topic1\", \"Topic1\", \"Topic1\", \"Topic1\", \"Topic1\", \"Topic1\", \"Topic1\", \"Topic1\", \"Topic2\", \"Topic2\", \"Topic2\", \"Topic2\", \"Topic2\", \"Topic2\", \"Topic2\", \"Topic2\", \"Topic2\", \"Topic2\", \"Topic2\", \"Topic2\", \"Topic2\", \"Topic2\", \"Topic2\", \"Topic2\", \"Topic2\", \"Topic2\", \"Topic2\", \"Topic2\", \"Topic2\", \"Topic2\", \"Topic2\", \"Topic2\", \"Topic2\", \"Topic2\", \"Topic2\", \"Topic2\", \"Topic2\", \"Topic2\", \"Topic2\", \"Topic2\", \"Topic2\", \"Topic2\", \"Topic2\", \"Topic2\", \"Topic2\", \"Topic2\", \"Topic2\", \"Topic2\", \"Topic2\", \"Topic2\", \"Topic3\", \"Topic3\", \"Topic3\", \"Topic3\", \"Topic3\", \"Topic3\", \"Topic3\", \"Topic3\", \"Topic3\", \"Topic3\", \"Topic3\", \"Topic3\", \"Topic3\", \"Topic3\", \"Topic3\", \"Topic3\", \"Topic3\", \"Topic3\", \"Topic3\", \"Topic3\", \"Topic3\", \"Topic3\", \"Topic3\", \"Topic3\", \"Topic3\", \"Topic3\", \"Topic3\", \"Topic3\", \"Topic3\", \"Topic3\", \"Topic3\", \"Topic3\", \"Topic3\", \"Topic3\", \"Topic3\", \"Topic3\", \"Topic3\", \"Topic3\", \"Topic3\", \"Topic3\", \"Topic3\", \"Topic4\", \"Topic4\", \"Topic4\", \"Topic4\", \"Topic4\", \"Topic4\", \"Topic4\", \"Topic4\", \"Topic4\", \"Topic4\", \"Topic4\", \"Topic4\", \"Topic4\", \"Topic4\", \"Topic4\", \"Topic4\", \"Topic4\", \"Topic4\", \"Topic4\", \"Topic4\", \"Topic4\", \"Topic4\", \"Topic4\", \"Topic4\", \"Topic4\", \"Topic4\", \"Topic4\", \"Topic4\", \"Topic4\", \"Topic4\", \"Topic4\", \"Topic4\", \"Topic4\", \"Topic4\", \"Topic4\", \"Topic4\", \"Topic4\", \"Topic4\", \"Topic4\", \"Topic4\", \"Topic4\", \"Topic4\", \"Topic4\", \"Topic4\", \"Topic4\", \"Topic4\", \"Topic4\"], \"logprob\": [30.0, 29.0, 28.0, 27.0, 26.0, 25.0, 24.0, 23.0, 22.0, 21.0, 20.0, 19.0, 18.0, 17.0, 16.0, 15.0, 14.0, 13.0, 12.0, 11.0, 10.0, 9.0, 8.0, 7.0, 6.0, 5.0, 4.0, 3.0, 2.0, 1.0, -3.3336, -3.8522, -3.8543, -3.9209, -3.9507, -4.0139, -4.1099, -4.1555, -4.1812, -4.3931, -4.4578, -4.4704, -4.4749, -4.5565, -4.5892, -4.7759, -4.8437, -4.7185, -4.9761, -4.9761, -4.9761, -4.977, -4.9851, -5.0117, -5.0578, -5.1102, -5.1102, -5.1669, -5.1669, -5.2021, -2.9011, -3.4473, -2.6582, -4.27, -4.6539, -4.9027, -4.0171, -4.2358, -4.3649, -4.4633, -4.5324, -4.5443, -4.559, -4.559, -4.559, -4.6715, -4.6998, -4.7471, -4.852, -4.8867, -4.9058, -4.9115, -4.9194, -4.9194, -4.9194, -4.9194, -4.9194, -4.9194, -4.9571, -5.0194, -5.0285, -4.6286, -5.0709, -5.0647, -5.1219, -5.1589, -4.9976, -3.719, -3.834, -3.4792, -4.0458, -4.2143, -4.6955, -4.6114, -4.4223, -4.7547, -4.0037, -4.7798, -4.016, -4.2678, -4.2881, -4.3122, -4.3322, -4.3322, -4.3322, -4.4201, -4.4682, -4.4682, -4.4682, -4.4898, -4.606, -4.4942, -4.6608, -4.8123, -4.8136, -4.8136, -4.8136, -4.9111, -4.9219, -4.9981, -4.9981, -5.0077, -5.0077, -5.0937, -5.0937, -5.0937, -5.1054, -5.1054, -4.5878, -3.8393, -4.7171, -4.8046, -4.5351, -4.3956, -4.0492, -4.1008, -4.4898, -4.5312, -4.1719, -3.8594, -3.8078, -4.1627, -4.3457, -4.3509, -4.3509, -4.4007, -4.4777, -4.563, -4.5801, -4.5987, -4.7703, -4.8142, -4.8988, -4.9582, -4.9589, -4.9786, -4.9786, -4.9926, -4.9841, -5.0236, -5.0236, -5.0246, -5.0246, -5.0246, -5.0197, -5.0945, -5.0945, -5.1029, -5.2315, -5.0931, -4.5358, -4.0628, -4.3045, -4.047, -4.5801, -4.6091, -4.5801, -4.4684, -4.9181, -4.7727, -4.5725, -4.6281, -4.9381, -4.8255, -4.8967, -4.9376], \"loglift\": [30.0, 29.0, 28.0, 27.0, 26.0, 25.0, 24.0, 23.0, 22.0, 21.0, 20.0, 19.0, 18.0, 17.0, 16.0, 15.0, 14.0, 13.0, 12.0, 11.0, 10.0, 9.0, 8.0, 7.0, 6.0, 5.0, 4.0, 3.0, 2.0, 1.0, 1.0612, 1.0576, 1.0574, 1.057, 1.0567, 1.0561, 1.055, 1.0542, 1.054, 1.0514, 1.0504, 1.0502, 1.0501, 1.0484, 1.0481, 1.0443, 1.0424, 1.0415, 1.0396, 1.0396, 1.0396, 1.0392, 1.0387, 1.0386, 1.037, 1.0358, 1.0358, 1.034, 1.034, 1.0328, 1.0113, 0.966, 0.8957, 0.9443, 0.4532, 0.6835, 1.3953, 1.3924, 1.3903, 1.3882, 1.3862, 1.3862, 1.3859, 1.3859, 1.3859, 1.383, 1.3822, 1.38, 1.3775, 1.376, 1.3756, 1.3754, 1.3751, 1.3751, 1.3751, 1.3751, 1.3751, 1.3751, 1.3733, 1.3714, 1.3711, 1.371, 1.3692, 1.3683, 1.3669, 1.3656, 1.3632, 1.1743, 1.1645, 0.93, 1.0401, 1.0656, 1.0994, 1.0234, 0.8174, 1.1141, -0.4499, 0.8002, 1.4973, 1.4929, 1.4921, 1.492, 1.4911, 1.4911, 1.4911, 1.4896, 1.4884, 1.4884, 1.4884, 1.4878, 1.4847, 1.4846, 1.4831, 1.4782, 1.4782, 1.4782, 1.4782, 1.4746, 1.4731, 1.4711, 1.4711, 1.4704, 1.4704, 1.4669, 1.4669, 1.4669, 1.4664, 1.4664, 1.4405, 1.3831, 1.3981, 1.4076, 1.2883, 1.1995, 0.9526, 0.8543, 0.9428, 0.955, 0.2373, 1.6354, 1.6344, 1.6305, 1.6264, 1.6263, 1.6263, 1.624, 1.6203, 1.6202, 1.62, 1.6183, 1.6132, 1.6109, 1.6086, 1.6061, 1.6061, 1.6052, 1.6052, 1.6046, 1.6034, 1.6031, 1.6031, 1.6031, 1.6031, 1.6031, 1.6026, 1.5997, 1.5997, 1.599, 1.5924, 1.5853, 1.5327, 1.4732, 1.2787, 0.908, 1.1585, 1.1088, 1.0387, 0.7951, 1.3899, 0.9773, 0.4292, 0.4578, 1.2639, 0.0677, 0.1019, 0.9461]}, \"token.table\": {\"Topic\": [4, 3, 2, 3, 1, 1, 1, 4, 1, 3, 2, 3, 3, 2, 4, 2, 2, 1, 3, 4, 4, 1, 1, 2, 3, 3, 1, 2, 2, 4, 4, 4, 4, 3, 4, 2, 1, 3, 1, 3, 1, 2, 3, 1, 1, 2, 1, 2, 4, 3, 2, 4, 2, 3, 4, 2, 3, 2, 1, 1, 3, 4, 3, 2, 2, 2, 3, 4, 4, 2, 3, 4, 4, 2, 3, 4, 4, 1, 2, 1, 3, 1, 2, 1, 3, 3, 4, 3, 2, 4, 2, 3, 2, 4, 1, 2, 1, 3, 3, 4, 1, 4, 2, 1, 1, 4, 1, 2, 4, 3, 2, 3, 2, 2, 4, 1, 3, 3, 1, 2, 1, 3, 2, 3, 3, 1, 2, 4, 1, 4, 3, 3, 2, 4, 1, 2, 3, 1, 3, 4, 3, 1, 2, 1, 4, 3, 4, 2, 2, 4, 1, 3, 2, 1, 3, 2, 4, 4, 1, 1, 3, 4, 4, 1, 2, 3, 3, 4, 3, 4, 4, 4, 1, 4, 4, 4, 2, 1, 4, 2, 1, 2, 2, 1, 2, 3, 4, 2, 2, 3, 4, 4, 1, 2, 3, 1, 2, 1, 3, 3, 1, 3, 4], \"Freq\": [0.9539081020378479, 0.9795904424921122, 0.9828602449462762, 0.9609066836516509, 0.9844341178843856, 0.9890189440966799, 0.983406895422461, 0.9765160666253537, 0.9842723729762977, 0.9233974822071098, 0.7510819756783764, 0.22859016651081024, 0.9233974822071098, 0.9866926651410886, 0.9838683593138345, 0.9497299507564314, 0.9497299507564314, 0.21112280761287155, 0.5700315805547532, 0.21112280761287155, 0.9471073916189293, 0.978839470641303, 0.978109823122693, 0.9677466423375293, 0.03722102470528959, 0.962608283771806, 0.9664535368850142, 0.9866926651410886, 0.7796205929560802, 0.21884086819819795, 0.9826181606815738, 0.968902517922151, 0.9856439509725888, 0.5107108479792295, 0.47142539813467343, 0.9866870339657333, 0.038302718632997154, 0.9192652471919317, 0.8825618988895435, 0.10183406525648578, 0.9935482785107256, 0.9425425373914191, 0.9471333573589742, 0.9634891459380207, 0.44039710753288014, 0.5382631314290757, 0.9913827735905616, 0.31897133652809434, 0.6835100068459163, 0.984200631868608, 0.20265668137210904, 0.7599625551454089, 0.6145334039220741, 0.28071278944588574, 0.0986288179134193, 0.09207289866610735, 0.9207289866610735, 0.9436800936258333, 0.9825524648171081, 0.9887713916022562, 0.9783838036150831, 0.9765160666253537, 0.9889548243327917, 0.9497299507564314, 0.9610769334243394, 0.9712641045621099, 0.9672965373411635, 0.9276962605544106, 0.9765160666253537, 0.9910824050353857, 0.2945042500498153, 0.687176583449569, 0.9885762170530575, 0.9755525616919741, 0.9524100658931378, 0.9335679457004757, 0.9345659915670771, 0.946290354669135, 0.05077655561639261, 0.2483619949835336, 0.7202497854522474, 0.310108339715466, 0.671901402716843, 0.9643484321058063, 0.962608283771806, 0.9524100658931378, 0.9551459444390415, 0.9672362703125821, 0.7878758656931026, 0.2092795268247304, 0.9835946319709545, 0.9865360680279919, 0.7278874047764452, 0.24262913492548174, 0.8418468557434774, 0.154822410251674, 0.9065439652544772, 0.09141619817692206, 0.07974929586255122, 0.8772422544880635, 0.4639543631408446, 0.5219486585334502, 0.9356725597085053, 0.983406895422461, 0.9839517670068798, 0.9755645742208809, 0.9914580917773247, 0.9684011667847781, 0.9922692581090852, 0.9783838036150831, 0.08356608392636788, 0.8774438812268628, 0.9497299507564314, 0.4971718763183098, 0.4971718763183098, 0.9827256328636822, 0.9672965373411635, 0.9856241285452356, 0.6892858681964927, 0.2954082292270683, 0.9558807925338608, 0.9863031839394866, 0.18724694474107556, 0.8114034272113274, 0.9471333573589742, 0.9854054845492227, 0.9438857403028005, 0.9714426091597628, 0.1638833447428762, 0.8428286301062203, 0.9609066836516509, 0.962608283771806, 0.9497299507564314, 0.9690767568224571, 0.10444568729622072, 0.5570436655798439, 0.3307446764380323, 0.2852334246643581, 0.2852334246643581, 0.4278501369965371, 0.9831062927421758, 0.9909138010951782, 0.9497299507564314, 0.983406895422461, 0.9690767568224571, 0.9471333573589742, 0.9776434949331463, 0.9866926651410886, 0.6866519756382142, 0.2985443372340062, 0.9558807925338608, 0.9841132954346006, 0.9760107071732524, 0.4232218164221433, 0.5791456435250382, 0.9725750266972117, 0.9682837277422994, 0.9819955045740858, 0.9913217591042371, 0.9725256939972381, 0.3931306285344617, 0.5896959428016925, 0.9804639805088068, 0.5488560018950249, 0.182952000631675, 0.27442800094751246, 0.9396004848135563, 0.9380285715543324, 0.9783838036150831, 0.9345659915670771, 0.9826781254687913, 0.9826181606815738, 0.9877406804306171, 0.9712091010288373, 0.9766007916334021, 0.9755645742208809, 0.96291625766413, 0.37268540457377813, 0.6020302689268724, 0.9829617444478022, 0.9798992651195458, 0.9843876553540587, 0.9699352231280821, 0.9790942074434695, 0.13721425172361415, 0.5762998572391794, 0.2881499286195897, 0.9930658507523207, 0.9724457618452744, 0.4577691267584543, 0.5340639812181968, 0.9835098381932307, 0.994649254043746, 0.9614541106165881, 0.9784815309370645, 0.2899299420593938, 0.7067042337697724, 0.9905810660759473, 0.9672965373411635, 0.9459088934168741, 0.9909138010951782, 0.8725875461274251, 0.11976691809592109], \"Term\": [\"abroad\", \"accuse\", \"act\", \"africa\", \"airstrike\", \"amass\", \"apartheid_tv\", \"appoint\", \"arab\", \"arrive\", \"attack\", \"attack\", \"attend\", \"australian_committee\", \"ban\", \"ban_neonicotinoid\", \"bayer_cropscience\", \"bill\", \"bill\", \"bill\", \"body\", \"bolsonaro\", \"border\", \"brazil\", \"brazil\", \"brexit_shift\", \"call\", \"cannabis_the\", \"case\", \"case\", \"chamber\", \"chernobyl\", \"chief\", \"china\", \"china\", \"chinese\", \"citizen\", \"citizen\", \"city\", \"city\", \"clash\", \"collapse\", \"colonial_pipeline\", \"condemn\", \"conflict\", \"conflict\", \"continue\", \"coronavirus\", \"coronavirus\", \"country\", \"court\", \"court\", \"covid\", \"covid\", \"covid\", \"crime\", \"crime\", \"cuba\", \"day\", \"death\", \"disappearing_rainforest\", \"elisabetta_belloni\", \"energy\", \"expressed_disappointment\", \"fail\", \"fear\", \"feast\", \"federal\", \"female_spy\", \"fight\", \"find\", \"find\", \"first\", \"follow\", \"food\", \"foreign\", \"formally_recognise\", \"gaza\", \"gaza\", \"group\", \"group\", \"hama\", \"hama\", \"hamas\", \"historic_post\", \"hungry\", \"imam\", \"import\", \"india\", \"india\", \"international\", \"interview\", \"investigation\", \"investigation\", \"israel\", \"israel\", \"israeli\", \"israeli\", \"italy\", \"italy\", \"japan\", \"japan\", \"japanese\", \"jarrah\", \"jewish\", \"justice\", \"kill\", \"late\", \"law\", \"lawmakers_thursday\", \"leader\", \"leader\", \"legal_challenge\", \"long\", \"long\", \"lynching\", \"mark\", \"massive\", \"military\", \"military\", \"mount\", \"muslim\", \"nation\", \"nation\", \"nearly\", \"netanyahu\", \"new\", \"news\", \"nuclear\", \"nuclear\", \"official_tally\", \"overtaken_r\", \"overturn\", \"pacifist_constitution\", \"palestinian\", \"palestinian\", \"palestinian\", \"pandemic\", \"pandemic\", \"pandemic\", \"pass\", \"personnel\", \"pesticides_rejecte\", \"poet_mohamme\", \"push_revise\", \"ransom\", \"reaction\", \"recommend\", \"record\", \"record\", \"religious\", \"report\", \"response\", \"right\", \"right\", \"riot\", \"rise\", \"river\", \"rock\", \"rocket\", \"rule\", \"rule\", \"russia\", \"say\", \"say\", \"say\", \"scientist\", \"secretary\", \"sector\", \"sentient_being\", \"shark\", \"spiking_inaccessible\", \"spread\", \"statement\", \"support\", \"supreme\", \"surge\", \"target\", \"target\", \"thai_prisoner\", \"toll\", \"traced_week\", \"train\", \"troop\", \"uk\", \"uk\", \"uk\", \"un\", \"urge\", \"uyghur\", \"uyghur\", \"variant\", \"violence\", \"visit\", \"want\", \"war\", \"war\", \"warn\", \"weary\", \"western\", \"withdraw\", \"world\", \"world\"]}, \"R\": 30, \"lambda.step\": 0.01, \"plot.opts\": {\"xlab\": \"PC1\", \"ylab\": \"PC2\"}, \"topic.order\": [4, 3, 1, 2]};\n\nfunction LDAvis_load_lib(url, callback){\n  var s = document.createElement('script');\n  s.src = url;\n  s.async = true;\n  s.onreadystatechange = s.onload = callback;\n  s.onerror = function(){console.warn(\"failed to load library \" + url);};\n  document.getElementsByTagName(\"head\")[0].appendChild(s);\n}\n\nif(typeof(LDAvis) !== \"undefined\"){\n   // already loaded: just create the visualization\n   !function(LDAvis){\n       new LDAvis(\"#\" + \"ldavis_el1715621966486938241216131882\", ldavis_el1715621966486938241216131882_data);\n   }(LDAvis);\n}else if(typeof define === \"function\" && define.amd){\n   // require.js is available: use it to load d3/LDAvis\n   require.config({paths: {d3: \"https://d3js.org/d3.v5\"}});\n   require([\"d3\"], function(d3){\n      window.d3 = d3;\n      LDAvis_load_lib(\"https://cdn.jsdelivr.net/gh/bmabey/pyLDAvis@3.3.1/pyLDAvis/js/ldavis.v3.0.0.js\", function(){\n        new LDAvis(\"#\" + \"ldavis_el1715621966486938241216131882\", ldavis_el1715621966486938241216131882_data);\n      });\n    });\n}else{\n    // require.js not available: dynamically load d3 & LDAvis\n    LDAvis_load_lib(\"https://d3js.org/d3.v5.js\", function(){\n         LDAvis_load_lib(\"https://cdn.jsdelivr.net/gh/bmabey/pyLDAvis@3.3.1/pyLDAvis/js/ldavis.v3.0.0.js\", function(){\n                 new LDAvis(\"#\" + \"ldavis_el1715621966486938241216131882\", ldavis_el1715621966486938241216131882_data);\n            })\n         });\n}\n</script>"
     },
     "metadata": {},
     "execution_count": 17
    }
   ],
   "source": [
    "import pyLDAvis.gensim_models\n",
    "pyLDAvis.enable_notebook()\n",
    "vis = pyLDAvis.gensim_models.prepare(lda_model, corpus, id2word, mds='mmds')\n",
    "vis"
   ]
  },
  {
   "cell_type": "code",
   "execution_count": null,
   "metadata": {},
   "outputs": [],
   "source": []
  }
 ],
 "metadata": {
  "kernelspec": {
   "name": "python385jvsc74a57bd03ab4fdb77c8288e7266c0739e217c651d1dc59fdf27a301350b4ac2bd430c816",
   "display_name": "Python 3.8.5 64-bit ('base': conda)"
  },
  "language_info": {
   "codemirror_mode": {
    "name": "ipython",
    "version": 3
   },
   "file_extension": ".py",
   "mimetype": "text/x-python",
   "name": "python",
   "nbconvert_exporter": "python",
   "pygments_lexer": "ipython3",
   "version": "3.8.5"
  }
 },
 "nbformat": 4,
 "nbformat_minor": 4
}